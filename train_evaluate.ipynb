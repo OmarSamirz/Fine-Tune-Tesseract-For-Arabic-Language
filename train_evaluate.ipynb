{
 "cells": [
  {
   "cell_type": "markdown",
   "metadata": {},
   "source": [
    "# Train/Fine Tune Tesseract model"
   ]
  },
  {
   "cell_type": "markdown",
   "metadata": {},
   "source": [
    "### Import libraries"
   ]
  },
  {
   "cell_type": "code",
   "execution_count": 1,
   "metadata": {},
   "outputs": [],
   "source": [
    "import os\n",
    "import py7zr\n",
    "import tarfile\n",
    "import subprocess\n",
    "from evaluate_model import *\n",
    "from generate_output_text import process_images\n",
    "from download_benchmarks import download_benchmark"
   ]
  },
  {
   "cell_type": "markdown",
   "metadata": {},
   "source": [
    "### Install Tesseract"
   ]
  },
  {
   "cell_type": "markdown",
   "metadata": {},
   "source": [
    "#### Install needed libraries"
   ]
  },
  {
   "cell_type": "code",
   "execution_count": null,
   "metadata": {},
   "outputs": [],
   "source": [
    "%pip install Pillow>=6.2.1 python-bidi>=0.4 matplotlib pandas"
   ]
  },
  {
   "cell_type": "markdown",
   "metadata": {},
   "source": [
    "#### Install Tesseract and needed packages"
   ]
  },
  {
   "cell_type": "code",
   "execution_count": null,
   "metadata": {},
   "outputs": [],
   "source": [
    "!sudo apt install tesseract-ocr\n",
    "!sudo apt install libtesseract-dev\n",
    "!sudo apt install bc"
   ]
  },
  {
   "cell_type": "markdown",
   "metadata": {},
   "source": [
    "#### Clone Tesseract"
   ]
  },
  {
   "cell_type": "code",
   "execution_count": null,
   "metadata": {},
   "outputs": [],
   "source": [
    "!git clone https://github.com/tesseract-ocr/tesseract.git"
   ]
  },
  {
   "cell_type": "markdown",
   "metadata": {},
   "source": [
    "#### Install make"
   ]
  },
  {
   "cell_type": "code",
   "execution_count": null,
   "metadata": {},
   "outputs": [],
   "source": [
    "cd tessract"
   ]
  },
  {
   "cell_type": "code",
   "execution_count": null,
   "metadata": {},
   "outputs": [],
   "source": [
    "!./autogen.sh"
   ]
  },
  {
   "cell_type": "code",
   "execution_count": null,
   "metadata": {},
   "outputs": [],
   "source": [
    "!./configure"
   ]
  },
  {
   "cell_type": "code",
   "execution_count": null,
   "metadata": {},
   "outputs": [],
   "source": [
    "!make"
   ]
  },
  {
   "cell_type": "code",
   "execution_count": null,
   "metadata": {},
   "outputs": [],
   "source": [
    "!sudo make install"
   ]
  },
  {
   "cell_type": "code",
   "execution_count": null,
   "metadata": {},
   "outputs": [],
   "source": [
    "!sudo ldconfig"
   ]
  },
  {
   "cell_type": "code",
   "execution_count": null,
   "metadata": {},
   "outputs": [],
   "source": [
    "!make training"
   ]
  },
  {
   "cell_type": "code",
   "execution_count": null,
   "metadata": {},
   "outputs": [],
   "source": [
    "!sudo make training-install"
   ]
  },
  {
   "cell_type": "code",
   "execution_count": null,
   "metadata": {},
   "outputs": [],
   "source": [
    "cd .."
   ]
  },
  {
   "cell_type": "markdown",
   "metadata": {},
   "source": [
    "### Clone tesstrain and tessdata_best"
   ]
  },
  {
   "cell_type": "code",
   "execution_count": null,
   "metadata": {},
   "outputs": [],
   "source": [
    "!git clone https://github.com/tesseract-ocr/tesstrain.git"
   ]
  },
  {
   "cell_type": "code",
   "execution_count": 5,
   "metadata": {},
   "outputs": [],
   "source": [
    "!git config --global http.version HTTP/1.1"
   ]
  },
  {
   "cell_type": "code",
   "execution_count": null,
   "metadata": {},
   "outputs": [],
   "source": [
    "!git clone https://github.com/tesseract-ocr/tessdata_best.git"
   ]
  },
  {
   "cell_type": "markdown",
   "metadata": {},
   "source": [
    "### Create langdata folder"
   ]
  },
  {
   "cell_type": "code",
   "execution_count": null,
   "metadata": {},
   "outputs": [],
   "source": [
    "cd tesstrain"
   ]
  },
  {
   "cell_type": "markdown",
   "metadata": {},
   "source": [
    "#### Install required data"
   ]
  },
  {
   "cell_type": "code",
   "execution_count": null,
   "metadata": {},
   "outputs": [],
   "source": [
    "%pip install -r requirements.txt\n",
    "!make tesseract-langdata"
   ]
  },
  {
   "cell_type": "markdown",
   "metadata": {},
   "source": [
    "### Create the needed folders for the model"
   ]
  },
  {
   "cell_type": "code",
   "execution_count": 28,
   "metadata": {},
   "outputs": [],
   "source": [
    "!mkdir ./data/ara\n",
    "!mkdir ./data/Tesseract_F_JSTOR_TRDG_Shaden\n",
    "!mkdir ./data/Tesseract_F_JSTOR_TRDG_Shaden-ground-truth"
   ]
  },
  {
   "cell_type": "code",
   "execution_count": null,
   "metadata": {},
   "outputs": [],
   "source": [
    "cd .."
   ]
  },
  {
   "cell_type": "markdown",
   "metadata": {},
   "source": [
    "### Make a copy of all files in the needed_files folders to the model folder in tesstrain"
   ]
  },
  {
   "cell_type": "code",
   "execution_count": 30,
   "metadata": {},
   "outputs": [],
   "source": [
    "folder_cp_path = './needed_files/ara'\n",
    "folder_paste_path = './tesstrain/data/Tesseract_F_JSTOR_TRDG_Shaden'\n",
    "for file in os.listdir(folder_cp_path):\n",
    "    file_path = os.path.join(folder_cp_path, file)\n",
    "    subprocess.run(f'cp {file_path} {folder_paste_path}', shell=True, stdout=subprocess.PIPE, stderr=subprocess.PIPE)"
   ]
  },
  {
   "cell_type": "code",
   "execution_count": 31,
   "metadata": {},
   "outputs": [],
   "source": [
    "folder_cp_path = './needed_files/rest_data'\n",
    "folder_paste_path = './tesstrain/data'\n",
    "for file in os.listdir(folder_cp_path):\n",
    "    file_path = os.path.join(folder_cp_path, file)\n",
    "    subprocess.run(f'cp {file_path} {folder_paste_path}', shell=True, stdout=subprocess.PIPE, stderr=subprocess.PIPE)"
   ]
  },
  {
   "cell_type": "markdown",
   "metadata": {},
   "source": [
    "### Rename files in the model folder"
   ]
  },
  {
   "cell_type": "code",
   "execution_count": 32,
   "metadata": {},
   "outputs": [],
   "source": [
    "model_name = 'Tesseract_F_JSTOR_TRDG_Shaden'\n",
    "folder_path = './tesstrain/data/Tesseract_F_JSTOR_TRDG_Shaden'\n",
    "for file in os.listdir(folder_path):\n",
    "    file_path = os.path.join(folder_path, file)\n",
    "    file_name_split = file.split('.')\n",
    "    new_name_path = os.path.join(folder_path, model_name + '.' + file_name_split[1])\n",
    "    subprocess.run(f'mv {file_path} {new_name_path}', shell=True, stdout=subprocess.PIPE, stderr=subprocess.PIPE)"
   ]
  },
  {
   "cell_type": "markdown",
   "metadata": {},
   "source": [
    "### Unzip all datasets inside the ground truth"
   ]
  },
  {
   "cell_type": "code",
   "execution_count": 33,
   "metadata": {},
   "outputs": [],
   "source": [
    "unzip_folder_path = './tesstrain/data/Tesseract_F_JSTOR_TRDG_Shaden-ground-truth'\n",
    "datasets_path = './datasets'\n",
    "for ds in os.listdir(datasets_path):\n",
    "    ds_path = os.path.join(datasets_path, ds)\n",
    "    with py7zr.SevenZipFile(ds_path, mode='r') as z:\n",
    "        z.extractall(path=unzip_folder_path)"
   ]
  },
  {
   "cell_type": "markdown",
   "metadata": {},
   "source": [
    "#### Copy all files from every dataset folder to the ground truth"
   ]
  },
  {
   "cell_type": "code",
   "execution_count": null,
   "metadata": {},
   "outputs": [],
   "source": [
    "ground_truth_path = './tesstrain/data/Tesseract_F_JSTOR_TRDG_Shaden-ground-truth'\n",
    "datasets_folders = ['Blur_1p8', 'Distortion_T2', 'Distortion_T_3', 'Dist_Type2', 'Dist_Type_0', 'JSTORArabic-ground-truth', 'num_dataset_FINAL', 'outputbase', 'Rand_Skew_Ang3', 'rand_dataset_txt2img']\n",
    "\n",
    "for dir in datasets_folders:\n",
    "    dir_path = os.path.join(ground_truth_path, dir)\n",
    "    subprocess.run(f'cp -a {dir_path}/. {ground_truth_path}/', shell=True, stdout=subprocess.PIPE, stderr=subprocess.PIPE)\n",
    "    subprocess.run(f'rm -fr {dir_path}', shell=True, stdout=subprocess.PIPE, stderr=subprocess.PIPE)\n",
    "\n",
    "subprocess.run(f'rm -fr ./tesstrain/data/Tesseract_F_JSTOR_TRDG_Shaden-ground-truth/.ipynb_checkpoints', shell=True, stdout=subprocess.PIPE, stderr=subprocess.PIPE)"
   ]
  },
  {
   "cell_type": "markdown",
   "metadata": {},
   "source": [
    "#### Train/Fine Tune the model"
   ]
  },
  {
   "cell_type": "code",
   "execution_count": null,
   "metadata": {},
   "outputs": [],
   "source": [
    "cd tesstrain"
   ]
  },
  {
   "cell_type": "markdown",
   "metadata": {},
   "source": [
    "need to change LEARNING_RATE, MAX_ITERATIONS and EPOCHS values"
   ]
  },
  {
   "cell_type": "code",
   "execution_count": null,
   "metadata": {},
   "outputs": [],
   "source": [
    "!make LANG_TYPE=RTL MODEL_NAME=Tesseract_F_JSTOR_TRDG_Shaden PSM=13 START_MODEL=ara TESSDATA=../tessdata_best FINETUNE_TYPE=Plus LEARNING_RATE=0.0001 MAX_ITERATIONS=10000 RATIO_TRAIN=0.80 EPOCHS=50 training -j12"
   ]
  },
  {
   "cell_type": "code",
   "execution_count": null,
   "metadata": {},
   "outputs": [],
   "source": [
    "cd .."
   ]
  },
  {
   "cell_type": "markdown",
   "metadata": {},
   "source": [
    "# Evaluate the model"
   ]
  },
  {
   "cell_type": "markdown",
   "metadata": {},
   "source": [
    "#### Install ocreval tool"
   ]
  },
  {
   "cell_type": "markdown",
   "metadata": {},
   "source": [
    "##### Install for macos"
   ]
  },
  {
   "cell_type": "code",
   "execution_count": null,
   "metadata": {},
   "outputs": [],
   "source": [
    "!brew install utf8proc"
   ]
  },
  {
   "cell_type": "code",
   "execution_count": null,
   "metadata": {},
   "outputs": [],
   "source": [
    "!git clone https://github.com/eddieantonio/ocreval.git"
   ]
  },
  {
   "cell_type": "code",
   "execution_count": null,
   "metadata": {},
   "outputs": [],
   "source": [
    "cd ocreval"
   ]
  },
  {
   "cell_type": "code",
   "execution_count": null,
   "metadata": {},
   "outputs": [],
   "source": [
    "!make"
   ]
  },
  {
   "cell_type": "code",
   "execution_count": null,
   "metadata": {},
   "outputs": [],
   "source": [
    "!sudo make install"
   ]
  },
  {
   "cell_type": "markdown",
   "metadata": {},
   "source": [
    "#### Create folders"
   ]
  },
  {
   "cell_type": "code",
   "execution_count": 1,
   "metadata": {},
   "outputs": [],
   "source": [
    "!mkdir ./benchmarks\n",
    "!mkdir ./benchmarks/csv_benchmarks\n",
    "!mkdir ./benchmarks/zipped_benchmarks\n",
    "!mkdir ./benchmarks/output_benchmarks"
   ]
  },
  {
   "cell_type": "markdown",
   "metadata": {},
   "source": [
    "#### Download Hegghammar's benchmakrs"
   ]
  },
  {
   "cell_type": "code",
   "execution_count": null,
   "metadata": {},
   "outputs": [],
   "source": [
    "# download ground truth\n",
    "download_benchmark('https://zenodo.org/records/5068735/files/ground_truth.tar.lzma?download=1', './benchmarks/zipped_benchmarks')\n",
    "\n",
    "benchmarks_names = ['yarmouk_01_col.tar.lzma', 'yarmouk_02_bin.tar.lzma', 'yarmouk_03_col_blur.tar.lzma', \n",
    "                    'yarmouk_04_col_weak.tar.lzma', 'yarmouk_05_col_snp.tar.lzma', 'yarmouk_06_col_wm.tar.lzma',\n",
    "                    'yarmouk_07_col_scrib.tar.lzma', 'yarmouk_08_col_ink.tar.lzma', 'yarmouk_09_bin_blur.tar.lzma',\n",
    "                    'yarmouk_10_bin_weak.tar.lzma', 'yarmouk_11_bin_snp.tar.lzma', 'yarmouk_12_bin_wm.tar.lzma',\n",
    "                    'yarmouk_13_bin_scrib.tar.lzma', 'yarmouk_14_bin_ink.tar.lzma', 'yarmouk_15_col_blur_weak.tar.lzma',\n",
    "                    'yarmouk_16_col_blur_snp.tar.lzma', 'yarmouk_17_col_blur_wm.tar.lzma', 'yarmouk_18_col_blur_scrib.tar.lzma',\n",
    "                    'yarmouk_19_col_blur_ink.tar.lzma', 'yarmouk_20_col_weak_snp.tar.lzma', 'yarmouk_21_col_weak_wm.tar.lzma',\n",
    "                    'yarmouk_22_col_weak_scrib.tar.lzma', 'yarmouk_23_col_weak_ink.tar.lzma', 'yarmouk_24_col_snp_wm.tar.lzma',\n",
    "                    'yarmouk_25_col_snp_scrib.tar.lzma', 'yarmouk_26_col_snp_ink.tar.lzma', 'yarmouk_27_col_wm_scrib.tar.lzma',\n",
    "                    'yarmouk_28_col_wm_ink.tar.lzma', 'yarmouk_29_col_scrib_ink.tar.lzma', 'yarmouk_30_bin_blur_weak.tar.lzma',\n",
    "                    'yarmouk_31_bin_blur_snp.tar.lzma', 'yarmouk_32_bin_blur_wm.tar.lzma', 'yarmouk_33_bin_blur_scrib.tar.lzma',\n",
    "                    'yarmouk_34_bin_blur_ink.tar.lzma', 'yarmouk_35_bin_weak_snp.tar.lzma', 'yarmouk_36_bin_weak_wm.tar.lzma',\n",
    "                    'yarmouk_37_bin_weak_scrib.tar.lzma', 'yarmouk_38_bin_weak_ink.tar.lzma', 'yarmouk_39_bin_snp_wm.tar.lzma',\n",
    "                    'yarmouk_40_bin_snp_scrib.tar.lzma', 'yarmouk_41_bin_snp_ink.tar.lzma', 'yarmouk_42_bin_wm_scrib.tar.lzma', \n",
    "                    'yarmouk_43_bin_wm_ink.tar.lzma', 'yarmouk_44_bin_scrib_ink.tar.lzma']\n",
    "\n",
    "num_to_download = 3     # the number of benchmarks in the list to be downloaded\n",
    "for benchmark in benchmarks_names[:num_to_download]:\n",
    "    print(benchmark)\n",
    "    download_benchmark(f'https://zenodo.org/records/5068735/files/{benchmark}?download=1', './benchmarks/zipped_benchmarks')\n",
    "    "
   ]
  },
  {
   "cell_type": "markdown",
   "metadata": {},
   "source": [
    "#### Unzip benchmarks"
   ]
  },
  {
   "cell_type": "code",
   "execution_count": null,
   "metadata": {},
   "outputs": [],
   "source": [
    "unzip_benchmark_folder_path = './benchmarks'\n",
    "benchmarks_path = './benchmarks/zipped_benchmarks'\n",
    "for benchmark in os.listdir(benchmarks_path):\n",
    "    print(benchmark)\n",
    "    benchmark_path = os.path.join(benchmarks_path, benchmark)\n",
    "    with tarfile.open(benchmark_path, mode='r:xz') as z:\n",
    "        z.extractall(path=unzip_benchmark_folder_path)\n",
    "\n",
    "# rename yarmouk to yarmouk_benchmarks\n",
    "subprocess.run('mv ./benchmarks/yarmouk ./benchmarks/yarmouk_benchmarks', shell=True, stdout=subprocess.PIPE, stderr=subprocess.PIPE)\n",
    "subprocess.run('mv ./benchmarks/ground_truth ./benchmarks/benchmark_ground_truth', shell=True, stdout=subprocess.PIPE, stderr=subprocess.PIPE)"
   ]
  },
  {
   "cell_type": "markdown",
   "metadata": {},
   "source": [
    "#### Generate output text files\n",
    "the output text files are in ./benchmarks/output_benchmarks"
   ]
  },
  {
   "cell_type": "code",
   "execution_count": null,
   "metadata": {},
   "outputs": [],
   "source": [
    "benchmarks_folder_path = './benchmarks/yarmouk_benchmarks/'\n",
    "\n",
    "for folder in os.listdir(benchmarks_folder_path):\n",
    "    print(folder)\n",
    "    process_images(folder_path=folder, model='ara', is_colab=True)"
   ]
  },
  {
   "cell_type": "markdown",
   "metadata": {},
   "source": [
    "#### Use ISRI tool to evaluate the model"
   ]
  },
  {
   "cell_type": "code",
   "execution_count": null,
   "metadata": {},
   "outputs": [],
   "source": [
    "dataset_name_lst = []\n",
    "file_name_lst = []\n",
    "engine_name_lst = []\n",
    "char_acc_lst = []\n",
    "word_acc_lst = []\n",
    "\n",
    "gt_path = './benchmarks/benchmark_ground_truth/yarmouk_gt'\n",
    "output_benchmarks_path = './benchmarks/output_benchmarks'\n",
    "\n",
    "for folder in os.listdir(output_benchmarks_path):\n",
    "    print(folder)\n",
    "    output_folder_path = os.path.join(output_benchmarks_path, folder)\n",
    "    dataset_name, file_name, engine_name, char_acc, word_acc = generate_accuracy(ground_truth_path=gt_path, \n",
    "                                                                                 output_folder_path=output_folder_path, \n",
    "                                                                                 model_name='Tesseract_F_JSTOR_TRDG_Shaden')\n",
    "    \n",
    "    dataset_name_lst.extend(dataset_name)\n",
    "    file_name_lst.extend(file_name)\n",
    "    engine_name_lst.extend(engine_name)\n",
    "    char_acc_lst.extend(char_acc)\n",
    "    word_acc_lst.extend(word_acc)\n",
    "\n",
    "create_df(csv_name='Tesseract_F_JSTOR_TRDG_Shaden', dataset_name_lst=dataset_name_lst, \n",
    "          file_name_lst=file_name_lst, engine_name_lst=engine_name_lst, \n",
    "          char_acc_lst=char_acc_lst, word_acc_lst=word_acc_lst)"
   ]
  }
 ],
 "metadata": {
  "kernelspec": {
   "display_name": "Python 3",
   "language": "python",
   "name": "python3"
  },
  "language_info": {
   "codemirror_mode": {
    "name": "ipython",
    "version": 3
   },
   "file_extension": ".py",
   "mimetype": "text/x-python",
   "name": "python",
   "nbconvert_exporter": "python",
   "pygments_lexer": "ipython3",
   "version": "3.11.4"
  }
 },
 "nbformat": 4,
 "nbformat_minor": 2
}
