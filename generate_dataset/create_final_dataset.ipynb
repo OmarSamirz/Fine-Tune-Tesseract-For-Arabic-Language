{
 "cells": [
  {
   "cell_type": "markdown",
   "metadata": {},
   "source": [
    "### Import libraries"
   ]
  },
  {
   "cell_type": "code",
   "execution_count": 5,
   "metadata": {},
   "outputs": [],
   "source": [
    "import re\n",
    "import pandas as pd\n",
    "from utilities import *"
   ]
  },
  {
   "cell_type": "code",
   "execution_count": 6,
   "metadata": {},
   "outputs": [],
   "source": [
    "df1 = pd.read_csv('downloaded_datasets/ArTopicDS-Books.csv')\n",
    "df3 = pd.read_csv('downloaded_datasets/Alpaca_arabic_instruct.csv')\n",
    "df4 = pd.read_csv('downloaded_datasets/Mixed-Arabic-Datasets-Repo-Ara--Ali-C137--Hindawi-Books-dataset.csv')\n",
    "df5 = pd.read_csv('downloaded_datasets/Mixed-Arabic-Datasets-Repo-Ara--J-Mourad--MNAD.v1.csv')\n",
    "df6 = pd.read_csv('downloaded_datasets/Arabic-OpenHermes-2.5.csv')\n",
    "df7 = pd.read_csv('downloaded_datasets/ArabicMMLU.csv')\n",
    "df8 = pd.read_csv('downloaded_datasets/Mixed-Arabic-Datasets-Repo-Ara--mustapha--QuranExe.csv')\n",
    "df9 = pd.read_csv('downloaded_datasets/Quran_speech_recognition_kaggle.csv')"
   ]
  },
  {
   "cell_type": "code",
   "execution_count": 25,
   "metadata": {},
   "outputs": [
    {
     "name": "stdout",
     "output_type": "stream",
     "text": [
      "21200 52002 49821 418563 981618 14575 49888 71054\n"
     ]
    }
   ],
   "source": [
    "print(df1.shape[0], df3.shape[0], df4.shape[0], df5.shape[0], df6.shape[0], df7.shape[0], df8.shape[0], df9.shape[0])"
   ]
  },
  {
   "cell_type": "markdown",
   "metadata": {},
   "source": [
    "### Create empty dataframe"
   ]
  },
  {
   "cell_type": "code",
   "execution_count": 36,
   "metadata": {},
   "outputs": [],
   "source": [
    "final_lst = []\n",
    "final_df = pd.DataFrame(columns=['Text'])"
   ]
  },
  {
   "cell_type": "markdown",
   "metadata": {},
   "source": [
    "### Add df1"
   ]
  },
  {
   "cell_type": "code",
   "execution_count": 37,
   "metadata": {},
   "outputs": [
    {
     "data": {
      "text/html": [
       "<div>\n",
       "<style scoped>\n",
       "    .dataframe tbody tr th:only-of-type {\n",
       "        vertical-align: middle;\n",
       "    }\n",
       "\n",
       "    .dataframe tbody tr th {\n",
       "        vertical-align: top;\n",
       "    }\n",
       "\n",
       "    .dataframe thead th {\n",
       "        text-align: right;\n",
       "    }\n",
       "</style>\n",
       "<table border=\"1\" class=\"dataframe\">\n",
       "  <thead>\n",
       "    <tr style=\"text-align: right;\">\n",
       "      <th></th>\n",
       "      <th>text</th>\n",
       "    </tr>\n",
       "  </thead>\n",
       "  <tbody>\n",
       "    <tr>\n",
       "      <th>0</th>\n",
       "      <td>لنعُدْ إلى تحديد معنى الأقلية في هذا التمزّق ا...</td>\n",
       "    </tr>\n",
       "    <tr>\n",
       "      <th>1</th>\n",
       "      <td>ومع ذلك لا تبدأ المشكلة الحقيقية في نظرنا إلا ...</td>\n",
       "    </tr>\n",
       "    <tr>\n",
       "      <th>2</th>\n",
       "      <td>ومع ذلك يجب علينا أن نحذّر أيضًا من الميل إلى ...</td>\n",
       "    </tr>\n",
       "    <tr>\n",
       "      <th>3</th>\n",
       "      <td>على المستوى الأول الاقتصادي كانت النتيجة أن مع...</td>\n",
       "    </tr>\n",
       "    <tr>\n",
       "      <th>4</th>\n",
       "      <td>لا تكون الجماعة إلا بالعصبية، أي بشعور التضامن...</td>\n",
       "    </tr>\n",
       "    <tr>\n",
       "      <th>...</th>\n",
       "      <td>...</td>\n",
       "    </tr>\n",
       "    <tr>\n",
       "      <th>21195</th>\n",
       "      <td>بعبارة أخرى، حتى في أثناء هذه العملية الأولية ...</td>\n",
       "    </tr>\n",
       "    <tr>\n",
       "      <th>21196</th>\n",
       "      <td>إن الأشكال السياسية التي يمكن أن تظهر في ثقافا...</td>\n",
       "    </tr>\n",
       "    <tr>\n",
       "      <th>21197</th>\n",
       "      <td>لا يمكن تحقيق تحول في تقاليدنا الفكرية المتوار...</td>\n",
       "    </tr>\n",
       "    <tr>\n",
       "      <th>21198</th>\n",
       "      <td>لا شك في أن العيش معا في سلام على الأرض هو عمل...</td>\n",
       "    </tr>\n",
       "    <tr>\n",
       "      <th>21199</th>\n",
       "      <td>أصول الفقه: هو العلم الذي يبحث في الأدلة الإجم...</td>\n",
       "    </tr>\n",
       "  </tbody>\n",
       "</table>\n",
       "<p>21200 rows × 1 columns</p>\n",
       "</div>"
      ],
      "text/plain": [
       "                                                    text\n",
       "0      لنعُدْ إلى تحديد معنى الأقلية في هذا التمزّق ا...\n",
       "1      ومع ذلك لا تبدأ المشكلة الحقيقية في نظرنا إلا ...\n",
       "2      ومع ذلك يجب علينا أن نحذّر أيضًا من الميل إلى ...\n",
       "3      على المستوى الأول الاقتصادي كانت النتيجة أن مع...\n",
       "4      لا تكون الجماعة إلا بالعصبية، أي بشعور التضامن...\n",
       "...                                                  ...\n",
       "21195  بعبارة أخرى، حتى في أثناء هذه العملية الأولية ...\n",
       "21196  إن الأشكال السياسية التي يمكن أن تظهر في ثقافا...\n",
       "21197  لا يمكن تحقيق تحول في تقاليدنا الفكرية المتوار...\n",
       "21198  لا شك في أن العيش معا في سلام على الأرض هو عمل...\n",
       "21199  أصول الفقه: هو العلم الذي يبحث في الأدلة الإجم...\n",
       "\n",
       "[21200 rows x 1 columns]"
      ]
     },
     "execution_count": 37,
     "metadata": {},
     "output_type": "execute_result"
    }
   ],
   "source": [
    "df1"
   ]
  },
  {
   "cell_type": "code",
   "execution_count": 38,
   "metadata": {},
   "outputs": [],
   "source": [
    "set_df1 = set()\n",
    "for idx, row in df1.iterrows():\n",
    "    set_df1.add(row[0])"
   ]
  },
  {
   "cell_type": "code",
   "execution_count": 39,
   "metadata": {},
   "outputs": [
    {
     "data": {
      "text/plain": [
       "21042"
      ]
     },
     "execution_count": 39,
     "metadata": {},
     "output_type": "execute_result"
    }
   ],
   "source": [
    "final_lst.extend(list(set_df1))\n",
    "len(final_lst)"
   ]
  },
  {
   "cell_type": "markdown",
   "metadata": {},
   "source": [
    "### Add df3"
   ]
  },
  {
   "cell_type": "code",
   "execution_count": 40,
   "metadata": {},
   "outputs": [
    {
     "data": {
      "text/html": [
       "<div>\n",
       "<style scoped>\n",
       "    .dataframe tbody tr th:only-of-type {\n",
       "        vertical-align: middle;\n",
       "    }\n",
       "\n",
       "    .dataframe tbody tr th {\n",
       "        vertical-align: top;\n",
       "    }\n",
       "\n",
       "    .dataframe thead th {\n",
       "        text-align: right;\n",
       "    }\n",
       "</style>\n",
       "<table border=\"1\" class=\"dataframe\">\n",
       "  <thead>\n",
       "    <tr style=\"text-align: right;\">\n",
       "      <th></th>\n",
       "      <th>instruction</th>\n",
       "      <th>input</th>\n",
       "      <th>output</th>\n",
       "    </tr>\n",
       "  </thead>\n",
       "  <tbody>\n",
       "    <tr>\n",
       "      <th>0</th>\n",
       "      <td>أعط ثلاث نصائح للبقاء بصحة جيدة.</td>\n",
       "      <td>NaN</td>\n",
       "      <td>1- تناول نظامًا غذائيًا متوازنًا وتأكد من تنا...</td>\n",
       "    </tr>\n",
       "    <tr>\n",
       "      <th>1</th>\n",
       "      <td>ما هي الألوان الثلاثة الأساسية؟</td>\n",
       "      <td>NaN</td>\n",
       "      <td>الألوان الثلاثة الأساسية هي الأحمر والأزرق وا...</td>\n",
       "    </tr>\n",
       "    <tr>\n",
       "      <th>2</th>\n",
       "      <td>صف بنية الذرة.</td>\n",
       "      <td>NaN</td>\n",
       "      <td>تتكون الذرة من نواة تحتوي على البروتونات والن...</td>\n",
       "    </tr>\n",
       "    <tr>\n",
       "      <th>3</th>\n",
       "      <td>كيف يمكننا تقليل تلوث الهواء؟</td>\n",
       "      <td>NaN</td>\n",
       "      <td>هناك عدد من الطرق للحد من تلوث الهواء ، مثل ال...</td>\n",
       "    </tr>\n",
       "    <tr>\n",
       "      <th>4</th>\n",
       "      <td>صف وقتًا كان عليك فيه اتخاذ قرار صعب.</td>\n",
       "      <td>NaN</td>\n",
       "      <td>كان علي أن أتخذ قرارًا صعبًا عندما كنت أعمل كم...</td>\n",
       "    </tr>\n",
       "    <tr>\n",
       "      <th>...</th>\n",
       "      <td>...</td>\n",
       "      <td>...</td>\n",
       "      <td>...</td>\n",
       "    </tr>\n",
       "    <tr>\n",
       "      <th>51997</th>\n",
       "      <td>قم بإنشاء مثال لما يجب أن ترغب فيه السيرة الذ...</td>\n",
       "      <td>NaN</td>\n",
       "      <td>جين تريمين \\ n1234 Main Street، Anytown، CA 98...</td>\n",
       "    </tr>\n",
       "    <tr>\n",
       "      <th>51998</th>\n",
       "      <td>رتب العناصر الواردة أدناه بالترتيب لإكمال الجم...</td>\n",
       "      <td>كعكة لي الأكل</td>\n",
       "      <td>أنا آكل الكعكة.</td>\n",
       "    </tr>\n",
       "    <tr>\n",
       "      <th>51999</th>\n",
       "      <td>اكتب فقرة تمهيدية عن شخص مشهور.</td>\n",
       "      <td>ميشيل أوباما</td>\n",
       "      <td>ميشيل أوباما امرأة ملهمة ارتقت إلى مستوى التح...</td>\n",
       "    </tr>\n",
       "    <tr>\n",
       "      <th>52000</th>\n",
       "      <td>قم بإنشاء قائمة من خمسة أشياء يجب على المرء أ...</td>\n",
       "      <td>NaN</td>\n",
       "      <td>1. ابحث عن الفرص المحتملة وفكر مليًا في الخيار...</td>\n",
       "    </tr>\n",
       "    <tr>\n",
       "      <th>52001</th>\n",
       "      <td>قم بتحليل الوثيقة القانونية المقدمة واشرح الن...</td>\n",
       "      <td>ما يلي مقتطف من عقد بين طرفين ، بعنوان \"الشرك...</td>\n",
       "      <td>تنص هذه الوثيقة القانونية على أن الشركة \"أ\" وا...</td>\n",
       "    </tr>\n",
       "  </tbody>\n",
       "</table>\n",
       "<p>52002 rows × 3 columns</p>\n",
       "</div>"
      ],
      "text/plain": [
       "                                             instruction  \\\n",
       "0                       أعط ثلاث نصائح للبقاء بصحة جيدة.   \n",
       "1                        ما هي الألوان الثلاثة الأساسية؟   \n",
       "2                                         صف بنية الذرة.   \n",
       "3                          كيف يمكننا تقليل تلوث الهواء؟   \n",
       "4                  صف وقتًا كان عليك فيه اتخاذ قرار صعب.   \n",
       "...                                                  ...   \n",
       "51997   قم بإنشاء مثال لما يجب أن ترغب فيه السيرة الذ...   \n",
       "51998  رتب العناصر الواردة أدناه بالترتيب لإكمال الجم...   \n",
       "51999                    اكتب فقرة تمهيدية عن شخص مشهور.   \n",
       "52000   قم بإنشاء قائمة من خمسة أشياء يجب على المرء أ...   \n",
       "52001   قم بتحليل الوثيقة القانونية المقدمة واشرح الن...   \n",
       "\n",
       "                                                   input  \\\n",
       "0                                                    NaN   \n",
       "1                                                    NaN   \n",
       "2                                                    NaN   \n",
       "3                                                    NaN   \n",
       "4                                                    NaN   \n",
       "...                                                  ...   \n",
       "51997                                                NaN   \n",
       "51998                                      كعكة لي الأكل   \n",
       "51999                                       ميشيل أوباما   \n",
       "52000                                                NaN   \n",
       "52001   ما يلي مقتطف من عقد بين طرفين ، بعنوان \"الشرك...   \n",
       "\n",
       "                                                  output  \n",
       "0       1- تناول نظامًا غذائيًا متوازنًا وتأكد من تنا...  \n",
       "1       الألوان الثلاثة الأساسية هي الأحمر والأزرق وا...  \n",
       "2       تتكون الذرة من نواة تحتوي على البروتونات والن...  \n",
       "3      هناك عدد من الطرق للحد من تلوث الهواء ، مثل ال...  \n",
       "4      كان علي أن أتخذ قرارًا صعبًا عندما كنت أعمل كم...  \n",
       "...                                                  ...  \n",
       "51997  جين تريمين \\ n1234 Main Street، Anytown، CA 98...  \n",
       "51998                                    أنا آكل الكعكة.  \n",
       "51999   ميشيل أوباما امرأة ملهمة ارتقت إلى مستوى التح...  \n",
       "52000  1. ابحث عن الفرص المحتملة وفكر مليًا في الخيار...  \n",
       "52001  تنص هذه الوثيقة القانونية على أن الشركة \"أ\" وا...  \n",
       "\n",
       "[52002 rows x 3 columns]"
      ]
     },
     "execution_count": 40,
     "metadata": {},
     "output_type": "execute_result"
    }
   ],
   "source": [
    "df3"
   ]
  },
  {
   "cell_type": "code",
   "execution_count": 41,
   "metadata": {},
   "outputs": [],
   "source": [
    "set_df3 = set()\n",
    "for idx, row in df3.iterrows():\n",
    "    set_df3.add(row[0])\n",
    "    set_df3.add(row[1])\n",
    "    set_df3.add(row[2])"
   ]
  },
  {
   "cell_type": "code",
   "execution_count": 42,
   "metadata": {},
   "outputs": [
    {
     "data": {
      "text/plain": [
       "142223"
      ]
     },
     "execution_count": 42,
     "metadata": {},
     "output_type": "execute_result"
    }
   ],
   "source": [
    "final_lst.extend(list(set_df3))\n",
    "len(final_lst)"
   ]
  },
  {
   "cell_type": "markdown",
   "metadata": {},
   "source": [
    "### Add df4"
   ]
  },
  {
   "cell_type": "code",
   "execution_count": 43,
   "metadata": {},
   "outputs": [
    {
     "data": {
      "text/html": [
       "<div>\n",
       "<style scoped>\n",
       "    .dataframe tbody tr th:only-of-type {\n",
       "        vertical-align: middle;\n",
       "    }\n",
       "\n",
       "    .dataframe tbody tr th {\n",
       "        vertical-align: top;\n",
       "    }\n",
       "\n",
       "    .dataframe thead th {\n",
       "        text-align: right;\n",
       "    }\n",
       "</style>\n",
       "<table border=\"1\" class=\"dataframe\">\n",
       "  <thead>\n",
       "    <tr style=\"text-align: right;\">\n",
       "      <th></th>\n",
       "      <th>BookName</th>\n",
       "      <th>AboutBook</th>\n",
       "      <th>ChapterName</th>\n",
       "      <th>ChapterText</th>\n",
       "      <th>AboutAuthor</th>\n",
       "    </tr>\n",
       "  </thead>\n",
       "  <tbody>\n",
       "    <tr>\n",
       "      <th>0</th>\n",
       "      <td>بعد الوليمة</td>\n",
       "      <td>«كانت صفات «كازو» الشخصية مَرحة بشوشة في كل سَ...</td>\n",
       "      <td>ستسوغوان</td>\n",
       "      <td>أَفلَت مطعم ستسوغوان من أية أضرار ناتجة عن الح...</td>\n",
       "      <td>يوكيو ميشيما: أحدُ أشهر أدباء اليابان، رُشِّح ...</td>\n",
       "    </tr>\n",
       "    <tr>\n",
       "      <th>1</th>\n",
       "      <td>بعد الوليمة</td>\n",
       "      <td>«كانت صفات «كازو» الشخصية مَرحة بشوشة في كل سَ...</td>\n",
       "      <td>نادي كاغِن</td>\n",
       "      <td>أبلغ أحد الوزراء كازو أنه يريد إقامة اجتماع نا...</td>\n",
       "      <td>يوكيو ميشيما: أحدُ أشهر أدباء اليابان، رُشِّح ...</td>\n",
       "    </tr>\n",
       "    <tr>\n",
       "      <th>2</th>\n",
       "      <td>بعد الوليمة</td>\n",
       "      <td>«كانت صفات «كازو» الشخصية مَرحة بشوشة في كل سَ...</td>\n",
       "      <td>رأي السيدة تاماكي</td>\n",
       "      <td>لم يسبق لكازو أن واجهَت مثل هذا الموقف بعد أن ...</td>\n",
       "      <td>يوكيو ميشيما: أحدُ أشهر أدباء اليابان، رُشِّح ...</td>\n",
       "    </tr>\n",
       "    <tr>\n",
       "      <th>3</th>\n",
       "      <td>بعد الوليمة</td>\n",
       "      <td>«كانت صفات «كازو» الشخصية مَرحة بشوشة في كل سَ...</td>\n",
       "      <td>صحبة فارغَيْن</td>\n",
       "      <td>نُقل السفير تاماكي على الفور إلى مستشفى جامعي....</td>\n",
       "      <td>يوكيو ميشيما: أحدُ أشهر أدباء اليابان، رُشِّح ...</td>\n",
       "    </tr>\n",
       "    <tr>\n",
       "      <th>4</th>\n",
       "      <td>بعد الوليمة</td>\n",
       "      <td>«كانت صفات «كازو» الشخصية مَرحة بشوشة في كل سَ...</td>\n",
       "      <td>تفسير كازو للحب</td>\n",
       "      <td>افترقَت كازو عن نوغوتشي في تلك الظُّهرية وعادت...</td>\n",
       "      <td>يوكيو ميشيما: أحدُ أشهر أدباء اليابان، رُشِّح ...</td>\n",
       "    </tr>\n",
       "    <tr>\n",
       "      <th>...</th>\n",
       "      <td>...</td>\n",
       "      <td>...</td>\n",
       "      <td>...</td>\n",
       "      <td>...</td>\n",
       "      <td>...</td>\n",
       "    </tr>\n",
       "    <tr>\n",
       "      <th>49816</th>\n",
       "      <td>غاندي السيرة الذاتية: قصة تجاربي مع الحقيقة</td>\n",
       "      <td>يُعد غاندي من أكثر الشخصيات الملهِمة في العصر ...</td>\n",
       "      <td>وأخيرًا وجدتها!</td>\n",
       "      <td>وأخيرًا، وبعد بحث مضني في أرجاء جوجرات، وجدتْ ...</td>\n",
       "      <td>مهنداس كارامشاند غاندي: السياسي البارز والزعيم...</td>\n",
       "    </tr>\n",
       "    <tr>\n",
       "      <th>49817</th>\n",
       "      <td>غاندي السيرة الذاتية: قصة تجاربي مع الحقيقة</td>\n",
       "      <td>يُعد غاندي من أكثر الشخصيات الملهِمة في العصر ...</td>\n",
       "      <td>حوار توجيهي</td>\n",
       "      <td>أثارت حركة الخادي، التي كان يُطلق عليها حينها ...</td>\n",
       "      <td>مهنداس كارامشاند غاندي: السياسي البارز والزعيم...</td>\n",
       "    </tr>\n",
       "    <tr>\n",
       "      <th>49818</th>\n",
       "      <td>غاندي السيرة الذاتية: قصة تجاربي مع الحقيقة</td>\n",
       "      <td>يُعد غاندي من أكثر الشخصيات الملهِمة في العصر ...</td>\n",
       "      <td>المد المتزايد</td>\n",
       "      <td>لا أجد حاجة إلى تخصيص المزيد من الفصول لوصف تط...</td>\n",
       "      <td>مهنداس كارامشاند غاندي: السياسي البارز والزعيم...</td>\n",
       "    </tr>\n",
       "    <tr>\n",
       "      <th>49819</th>\n",
       "      <td>غاندي السيرة الذاتية: قصة تجاربي مع الحقيقة</td>\n",
       "      <td>يُعد غاندي من أكثر الشخصيات الملهِمة في العصر ...</td>\n",
       "      <td>في ناجبور</td>\n",
       "      <td>كان من المقرر التصديق على القرارات التي تبناها...</td>\n",
       "      <td>مهنداس كارامشاند غاندي: السياسي البارز والزعيم...</td>\n",
       "    </tr>\n",
       "    <tr>\n",
       "      <th>49820</th>\n",
       "      <td>غاندي السيرة الذاتية: قصة تجاربي مع الحقيقة</td>\n",
       "      <td>يُعد غاندي من أكثر الشخصيات الملهِمة في العصر ...</td>\n",
       "      <td>الوداع</td>\n",
       "      <td>والآن حان وقت ختام هذه الفصول.\\nمنذ ذلك الحين،...</td>\n",
       "      <td>مهنداس كارامشاند غاندي: السياسي البارز والزعيم...</td>\n",
       "    </tr>\n",
       "  </tbody>\n",
       "</table>\n",
       "<p>49821 rows × 5 columns</p>\n",
       "</div>"
      ],
      "text/plain": [
       "                                          BookName  \\\n",
       "0                                      بعد الوليمة   \n",
       "1                                      بعد الوليمة   \n",
       "2                                      بعد الوليمة   \n",
       "3                                      بعد الوليمة   \n",
       "4                                      بعد الوليمة   \n",
       "...                                            ...   \n",
       "49816  غاندي السيرة الذاتية: قصة تجاربي مع الحقيقة   \n",
       "49817  غاندي السيرة الذاتية: قصة تجاربي مع الحقيقة   \n",
       "49818  غاندي السيرة الذاتية: قصة تجاربي مع الحقيقة   \n",
       "49819  غاندي السيرة الذاتية: قصة تجاربي مع الحقيقة   \n",
       "49820  غاندي السيرة الذاتية: قصة تجاربي مع الحقيقة   \n",
       "\n",
       "                                               AboutBook        ChapterName  \\\n",
       "0      «كانت صفات «كازو» الشخصية مَرحة بشوشة في كل سَ...           ستسوغوان   \n",
       "1      «كانت صفات «كازو» الشخصية مَرحة بشوشة في كل سَ...         نادي كاغِن   \n",
       "2      «كانت صفات «كازو» الشخصية مَرحة بشوشة في كل سَ...  رأي السيدة تاماكي   \n",
       "3      «كانت صفات «كازو» الشخصية مَرحة بشوشة في كل سَ...      صحبة فارغَيْن   \n",
       "4      «كانت صفات «كازو» الشخصية مَرحة بشوشة في كل سَ...    تفسير كازو للحب   \n",
       "...                                                  ...                ...   \n",
       "49816  يُعد غاندي من أكثر الشخصيات الملهِمة في العصر ...    وأخيرًا وجدتها!   \n",
       "49817  يُعد غاندي من أكثر الشخصيات الملهِمة في العصر ...        حوار توجيهي   \n",
       "49818  يُعد غاندي من أكثر الشخصيات الملهِمة في العصر ...      المد المتزايد   \n",
       "49819  يُعد غاندي من أكثر الشخصيات الملهِمة في العصر ...          في ناجبور   \n",
       "49820  يُعد غاندي من أكثر الشخصيات الملهِمة في العصر ...             الوداع   \n",
       "\n",
       "                                             ChapterText  \\\n",
       "0      أَفلَت مطعم ستسوغوان من أية أضرار ناتجة عن الح...   \n",
       "1      أبلغ أحد الوزراء كازو أنه يريد إقامة اجتماع نا...   \n",
       "2      لم يسبق لكازو أن واجهَت مثل هذا الموقف بعد أن ...   \n",
       "3      نُقل السفير تاماكي على الفور إلى مستشفى جامعي....   \n",
       "4      افترقَت كازو عن نوغوتشي في تلك الظُّهرية وعادت...   \n",
       "...                                                  ...   \n",
       "49816  وأخيرًا، وبعد بحث مضني في أرجاء جوجرات، وجدتْ ...   \n",
       "49817  أثارت حركة الخادي، التي كان يُطلق عليها حينها ...   \n",
       "49818  لا أجد حاجة إلى تخصيص المزيد من الفصول لوصف تط...   \n",
       "49819  كان من المقرر التصديق على القرارات التي تبناها...   \n",
       "49820  والآن حان وقت ختام هذه الفصول.\\nمنذ ذلك الحين،...   \n",
       "\n",
       "                                             AboutAuthor  \n",
       "0      يوكيو ميشيما: أحدُ أشهر أدباء اليابان، رُشِّح ...  \n",
       "1      يوكيو ميشيما: أحدُ أشهر أدباء اليابان، رُشِّح ...  \n",
       "2      يوكيو ميشيما: أحدُ أشهر أدباء اليابان، رُشِّح ...  \n",
       "3      يوكيو ميشيما: أحدُ أشهر أدباء اليابان، رُشِّح ...  \n",
       "4      يوكيو ميشيما: أحدُ أشهر أدباء اليابان، رُشِّح ...  \n",
       "...                                                  ...  \n",
       "49816  مهنداس كارامشاند غاندي: السياسي البارز والزعيم...  \n",
       "49817  مهنداس كارامشاند غاندي: السياسي البارز والزعيم...  \n",
       "49818  مهنداس كارامشاند غاندي: السياسي البارز والزعيم...  \n",
       "49819  مهنداس كارامشاند غاندي: السياسي البارز والزعيم...  \n",
       "49820  مهنداس كارامشاند غاندي: السياسي البارز والزعيم...  \n",
       "\n",
       "[49821 rows x 5 columns]"
      ]
     },
     "execution_count": 43,
     "metadata": {},
     "output_type": "execute_result"
    }
   ],
   "source": [
    "df4"
   ]
  },
  {
   "cell_type": "code",
   "execution_count": 44,
   "metadata": {},
   "outputs": [],
   "source": [
    "set_df4 = set()\n",
    "for index, row in df4.iterrows():\n",
    "    set_df4.add(row['BookName'])\n",
    "    set_df4.add(row['AboutBook'])\n",
    "    set_df4.add(row['ChapterName'])\n",
    "    try:\n",
    "        set_df4.add(row['ChapterText'])\n",
    "    except:\n",
    "        continue\n",
    "    try:\n",
    "        set_df4.add(row['AboutAuthor'])\n",
    "    except:\n",
    "        continue\n"
   ]
  },
  {
   "cell_type": "code",
   "execution_count": 45,
   "metadata": {},
   "outputs": [
    {
     "data": {
      "text/plain": [
       "232865"
      ]
     },
     "execution_count": 45,
     "metadata": {},
     "output_type": "execute_result"
    }
   ],
   "source": [
    "final_lst.extend(list(set_df4))\n",
    "len(final_lst)"
   ]
  },
  {
   "cell_type": "markdown",
   "metadata": {},
   "source": [
    "### Add df5"
   ]
  },
  {
   "cell_type": "code",
   "execution_count": 46,
   "metadata": {},
   "outputs": [
    {
     "data": {
      "text/html": [
       "<div>\n",
       "<style scoped>\n",
       "    .dataframe tbody tr th:only-of-type {\n",
       "        vertical-align: middle;\n",
       "    }\n",
       "\n",
       "    .dataframe tbody tr th {\n",
       "        vertical-align: top;\n",
       "    }\n",
       "\n",
       "    .dataframe thead th {\n",
       "        text-align: right;\n",
       "    }\n",
       "</style>\n",
       "<table border=\"1\" class=\"dataframe\">\n",
       "  <thead>\n",
       "    <tr style=\"text-align: right;\">\n",
       "      <th></th>\n",
       "      <th>Title</th>\n",
       "      <th>Body</th>\n",
       "    </tr>\n",
       "  </thead>\n",
       "  <tbody>\n",
       "    <tr>\n",
       "      <th>0</th>\n",
       "      <td>البرلمانيون يريدون توريث تقاعدهم لأبنائهم ، وه...</td>\n",
       "      <td>أخبارنا المغربية : سناء الوردي لازالت الحكومة ...</td>\n",
       "    </tr>\n",
       "    <tr>\n",
       "      <th>1</th>\n",
       "      <td>افتتاح معرض الشرق الأوسط للطيران الخاص (ميبا 2...</td>\n",
       "      <td>أخبارنا المغربية انطلقت اليوم الاثنين بدبي، فع...</td>\n",
       "    </tr>\n",
       "    <tr>\n",
       "      <th>2</th>\n",
       "      <td>فاعلون ومنعشون سياحيون بتنغير يستبشرون خيرا با...</td>\n",
       "      <td>الحسن فاتحي استبشر مجموعة من الفاعلون السياحيو...</td>\n",
       "    </tr>\n",
       "    <tr>\n",
       "      <th>3</th>\n",
       "      <td>اتفاقات ثنائية بـ150 مليون يورو بين المغرب وال...</td>\n",
       "      <td>الرباط ـــ وكالات وقع المغرب البلد الوحيد الذي...</td>\n",
       "    </tr>\n",
       "    <tr>\n",
       "      <th>4</th>\n",
       "      <td>أسعار المحروقات ستعرف انخفاضا طفيفا ابتداءا من...</td>\n",
       "      <td>أخبارنا المغربية كما سيعرف سعر البنزين انخفاضا...</td>\n",
       "    </tr>\n",
       "    <tr>\n",
       "      <th>...</th>\n",
       "      <td>...</td>\n",
       "      <td>...</td>\n",
       "    </tr>\n",
       "    <tr>\n",
       "      <th>418558</th>\n",
       "      <td>أستراليا ونيوزيلندا إلى نهائي كأس العالم للركبي</td>\n",
       "      <td>تأهل كل من المنتخب الأسترالي والنيوزيلندي إلى ...</td>\n",
       "    </tr>\n",
       "    <tr>\n",
       "      <th>418559</th>\n",
       "      <td>منتخب النيوزيلندا يتوج بكأس العالم للركبي</td>\n",
       "      <td>توج منتخب نيوزيلندا للمرة الثانية على التوالي ...</td>\n",
       "    </tr>\n",
       "    <tr>\n",
       "      <th>418560</th>\n",
       "      <td>الجديدة تحتضن تصفيات أولمبياد ريو</td>\n",
       "      <td>تحتضن مدينة الجديدة من 4 الى 9 نونبر الجاري من...</td>\n",
       "    </tr>\n",
       "    <tr>\n",
       "      <th>418561</th>\n",
       "      <td>منتخب كرة الطائرة الشاطئية يبحث عن التأهل إلى ...</td>\n",
       "      <td>ستكون مدينة الجديدة، على موعد مع منافسات إقصائ...</td>\n",
       "    </tr>\n",
       "    <tr>\n",
       "      <th>418562</th>\n",
       "      <td>الكانوي كاياك يهدي المغرب تذكرة حضور ثالثة للأ...</td>\n",
       "      <td>استطاعت البطلة المغربية هند الجميلي، التأهل إل...</td>\n",
       "    </tr>\n",
       "  </tbody>\n",
       "</table>\n",
       "<p>418563 rows × 2 columns</p>\n",
       "</div>"
      ],
      "text/plain": [
       "                                                    Title  \\\n",
       "0       البرلمانيون يريدون توريث تقاعدهم لأبنائهم ، وه...   \n",
       "1       افتتاح معرض الشرق الأوسط للطيران الخاص (ميبا 2...   \n",
       "2       فاعلون ومنعشون سياحيون بتنغير يستبشرون خيرا با...   \n",
       "3       اتفاقات ثنائية بـ150 مليون يورو بين المغرب وال...   \n",
       "4       أسعار المحروقات ستعرف انخفاضا طفيفا ابتداءا من...   \n",
       "...                                                   ...   \n",
       "418558    أستراليا ونيوزيلندا إلى نهائي كأس العالم للركبي   \n",
       "418559          منتخب النيوزيلندا يتوج بكأس العالم للركبي   \n",
       "418560                  الجديدة تحتضن تصفيات أولمبياد ريو   \n",
       "418561  منتخب كرة الطائرة الشاطئية يبحث عن التأهل إلى ...   \n",
       "418562  الكانوي كاياك يهدي المغرب تذكرة حضور ثالثة للأ...   \n",
       "\n",
       "                                                     Body  \n",
       "0       أخبارنا المغربية : سناء الوردي لازالت الحكومة ...  \n",
       "1       أخبارنا المغربية انطلقت اليوم الاثنين بدبي، فع...  \n",
       "2       الحسن فاتحي استبشر مجموعة من الفاعلون السياحيو...  \n",
       "3       الرباط ـــ وكالات وقع المغرب البلد الوحيد الذي...  \n",
       "4       أخبارنا المغربية كما سيعرف سعر البنزين انخفاضا...  \n",
       "...                                                   ...  \n",
       "418558  تأهل كل من المنتخب الأسترالي والنيوزيلندي إلى ...  \n",
       "418559  توج منتخب نيوزيلندا للمرة الثانية على التوالي ...  \n",
       "418560  تحتضن مدينة الجديدة من 4 الى 9 نونبر الجاري من...  \n",
       "418561  ستكون مدينة الجديدة، على موعد مع منافسات إقصائ...  \n",
       "418562  استطاعت البطلة المغربية هند الجميلي، التأهل إل...  \n",
       "\n",
       "[418563 rows x 2 columns]"
      ]
     },
     "execution_count": 46,
     "metadata": {},
     "output_type": "execute_result"
    }
   ],
   "source": [
    "df5"
   ]
  },
  {
   "cell_type": "code",
   "execution_count": 47,
   "metadata": {},
   "outputs": [],
   "source": [
    "set_df5 = set()\n",
    "for _, row in df5.iterrows():\n",
    "    set_df5.add(row[0])\n",
    "    set_df5.add(row[1])"
   ]
  },
  {
   "cell_type": "code",
   "execution_count": 48,
   "metadata": {},
   "outputs": [
    {
     "data": {
      "text/plain": [
       "1068849"
      ]
     },
     "execution_count": 48,
     "metadata": {},
     "output_type": "execute_result"
    }
   ],
   "source": [
    "final_lst.extend(list(set_df5))\n",
    "len(final_lst)"
   ]
  },
  {
   "cell_type": "markdown",
   "metadata": {},
   "source": [
    "### Add df6"
   ]
  },
  {
   "cell_type": "code",
   "execution_count": 49,
   "metadata": {},
   "outputs": [
    {
     "data": {
      "text/html": [
       "<div>\n",
       "<style scoped>\n",
       "    .dataframe tbody tr th:only-of-type {\n",
       "        vertical-align: middle;\n",
       "    }\n",
       "\n",
       "    .dataframe tbody tr th {\n",
       "        vertical-align: top;\n",
       "    }\n",
       "\n",
       "    .dataframe thead th {\n",
       "        text-align: right;\n",
       "    }\n",
       "</style>\n",
       "<table border=\"1\" class=\"dataframe\">\n",
       "  <thead>\n",
       "    <tr style=\"text-align: right;\">\n",
       "      <th></th>\n",
       "      <th>user</th>\n",
       "    </tr>\n",
       "  </thead>\n",
       "  <tbody>\n",
       "    <tr>\n",
       "      <th>0</th>\n",
       "      <td>كل يوم تسقط الشجرة 7 أوراق. كم عدد أوراق الشجر...</td>\n",
       "    </tr>\n",
       "    <tr>\n",
       "      <th>1</th>\n",
       "      <td>في الكيمياء التحليلية، ما هو المبدأ الكامن ورا...</td>\n",
       "    </tr>\n",
       "    <tr>\n",
       "      <th>2</th>\n",
       "      <td>حديقة مستطيلة يبلغ طولها 25 قدمًا وعرضها 15 قد...</td>\n",
       "    </tr>\n",
       "    <tr>\n",
       "      <th>3</th>\n",
       "      <td>ما هو الغرض من الكولوسيوم في روما؟</td>\n",
       "    </tr>\n",
       "    <tr>\n",
       "      <th>4</th>\n",
       "      <td>يدعي رجل أنه يستطيع التنبؤ بنتيجة رمي النرد بد...</td>\n",
       "    </tr>\n",
       "    <tr>\n",
       "      <th>...</th>\n",
       "      <td>...</td>\n",
       "    </tr>\n",
       "    <tr>\n",
       "      <th>981613</th>\n",
       "      <td>هل يمكنك تعديل كود Java المقدم لاستبدال مصفوفة...</td>\n",
       "    </tr>\n",
       "    <tr>\n",
       "      <th>981614</th>\n",
       "      <td>كيف يمكن للشركات في اليابان تحسين جهودها بشكل ...</td>\n",
       "    </tr>\n",
       "    <tr>\n",
       "      <th>981615</th>\n",
       "      <td>صباح الخير! عندما تبدأ يومك، فكر في كيف يمكن ل...</td>\n",
       "    </tr>\n",
       "    <tr>\n",
       "      <th>981616</th>\n",
       "      <td>كيف يمكن استخدام C# لإجراء التنبؤ المالي وخوار...</td>\n",
       "    </tr>\n",
       "    <tr>\n",
       "      <th>981617</th>\n",
       "      <td>بينما تستمر في استكشاف الأعماق المعقدة للموضوع...</td>\n",
       "    </tr>\n",
       "  </tbody>\n",
       "</table>\n",
       "<p>981618 rows × 1 columns</p>\n",
       "</div>"
      ],
      "text/plain": [
       "                                                     user\n",
       "0       كل يوم تسقط الشجرة 7 أوراق. كم عدد أوراق الشجر...\n",
       "1       في الكيمياء التحليلية، ما هو المبدأ الكامن ورا...\n",
       "2       حديقة مستطيلة يبلغ طولها 25 قدمًا وعرضها 15 قد...\n",
       "3                      ما هو الغرض من الكولوسيوم في روما؟\n",
       "4       يدعي رجل أنه يستطيع التنبؤ بنتيجة رمي النرد بد...\n",
       "...                                                   ...\n",
       "981613  هل يمكنك تعديل كود Java المقدم لاستبدال مصفوفة...\n",
       "981614  كيف يمكن للشركات في اليابان تحسين جهودها بشكل ...\n",
       "981615  صباح الخير! عندما تبدأ يومك، فكر في كيف يمكن ل...\n",
       "981616  كيف يمكن استخدام C# لإجراء التنبؤ المالي وخوار...\n",
       "981617  بينما تستمر في استكشاف الأعماق المعقدة للموضوع...\n",
       "\n",
       "[981618 rows x 1 columns]"
      ]
     },
     "execution_count": 49,
     "metadata": {},
     "output_type": "execute_result"
    }
   ],
   "source": [
    "df6"
   ]
  },
  {
   "cell_type": "code",
   "execution_count": 50,
   "metadata": {},
   "outputs": [],
   "source": [
    "set_df6 = set()\n",
    "\n",
    "for idx, row in df6.iterrows():\n",
    "    set_df6.add(row[0])"
   ]
  },
  {
   "cell_type": "code",
   "execution_count": 51,
   "metadata": {},
   "outputs": [
    {
     "data": {
      "text/plain": [
       "1619673"
      ]
     },
     "execution_count": 51,
     "metadata": {},
     "output_type": "execute_result"
    }
   ],
   "source": [
    "final_lst.extend(list(set_df6))\n",
    "len(final_lst)"
   ]
  },
  {
   "cell_type": "markdown",
   "metadata": {},
   "source": [
    "### Add df7"
   ]
  },
  {
   "cell_type": "code",
   "execution_count": 52,
   "metadata": {},
   "outputs": [
    {
     "data": {
      "text/html": [
       "<div>\n",
       "<style scoped>\n",
       "    .dataframe tbody tr th:only-of-type {\n",
       "        vertical-align: middle;\n",
       "    }\n",
       "\n",
       "    .dataframe tbody tr th {\n",
       "        vertical-align: top;\n",
       "    }\n",
       "\n",
       "    .dataframe thead th {\n",
       "        text-align: right;\n",
       "    }\n",
       "</style>\n",
       "<table border=\"1\" class=\"dataframe\">\n",
       "  <thead>\n",
       "    <tr style=\"text-align: right;\">\n",
       "      <th></th>\n",
       "      <th>final_text</th>\n",
       "    </tr>\n",
       "  </thead>\n",
       "  <tbody>\n",
       "    <tr>\n",
       "      <th>0</th>\n",
       "      <td>كم عدد سور القرآن الكريم؟ 111 112 113 114</td>\n",
       "    </tr>\n",
       "    <tr>\n",
       "      <th>1</th>\n",
       "      <td>في أي الأيام خلق سيدنا آدم عليه السلام؟ يوم ال...</td>\n",
       "    </tr>\n",
       "    <tr>\n",
       "      <th>2</th>\n",
       "      <td>كم عدد السنوات التي نام فيها أهل الكهف؟ 300 سن...</td>\n",
       "    </tr>\n",
       "    <tr>\n",
       "      <th>3</th>\n",
       "      <td>اسم أول صحابي قرأ القرآن جهرة؟ عبد الله بن مسع...</td>\n",
       "    </tr>\n",
       "    <tr>\n",
       "      <th>4</th>\n",
       "      <td>من هي أخر زوجات النبي التي توفيت؟ السيدة زينب ...</td>\n",
       "    </tr>\n",
       "    <tr>\n",
       "      <th>...</th>\n",
       "      <td>...</td>\n",
       "    </tr>\n",
       "    <tr>\n",
       "      <th>14570</th>\n",
       "      <td>شهدت دولة قطر نقلة نوعية في حرية الرأي وذلك من...</td>\n",
       "    </tr>\n",
       "    <tr>\n",
       "      <th>14571</th>\n",
       "      <td>من المبادرات الوطنية القطرية للصحة: برنامج الط...</td>\n",
       "    </tr>\n",
       "    <tr>\n",
       "      <th>14572</th>\n",
       "      <td>تهدف التنمية المستدامة في العالم الإسلامي في ا...</td>\n",
       "    </tr>\n",
       "    <tr>\n",
       "      <th>14573</th>\n",
       "      <td>تهدف التنمية المستدامة في العالم الإسلامي في ا...</td>\n",
       "    </tr>\n",
       "    <tr>\n",
       "      <th>14574</th>\n",
       "      <td>\" يعد الأول في مدينة الدوحة من حيث مساحة الاست...</td>\n",
       "    </tr>\n",
       "  </tbody>\n",
       "</table>\n",
       "<p>14575 rows × 1 columns</p>\n",
       "</div>"
      ],
      "text/plain": [
       "                                              final_text\n",
       "0              كم عدد سور القرآن الكريم؟ 111 112 113 114\n",
       "1      في أي الأيام خلق سيدنا آدم عليه السلام؟ يوم ال...\n",
       "2      كم عدد السنوات التي نام فيها أهل الكهف؟ 300 سن...\n",
       "3      اسم أول صحابي قرأ القرآن جهرة؟ عبد الله بن مسع...\n",
       "4      من هي أخر زوجات النبي التي توفيت؟ السيدة زينب ...\n",
       "...                                                  ...\n",
       "14570  شهدت دولة قطر نقلة نوعية في حرية الرأي وذلك من...\n",
       "14571  من المبادرات الوطنية القطرية للصحة: برنامج الط...\n",
       "14572  تهدف التنمية المستدامة في العالم الإسلامي في ا...\n",
       "14573  تهدف التنمية المستدامة في العالم الإسلامي في ا...\n",
       "14574  \" يعد الأول في مدينة الدوحة من حيث مساحة الاست...\n",
       "\n",
       "[14575 rows x 1 columns]"
      ]
     },
     "execution_count": 52,
     "metadata": {},
     "output_type": "execute_result"
    }
   ],
   "source": [
    "df7"
   ]
  },
  {
   "cell_type": "code",
   "execution_count": 53,
   "metadata": {},
   "outputs": [],
   "source": [
    "set_df7 = set()\n",
    "for _, row in df7.iterrows():\n",
    "    try:\n",
    "        set_df7.append(row[0])\n",
    "    except:\n",
    "        continue"
   ]
  },
  {
   "cell_type": "code",
   "execution_count": 54,
   "metadata": {},
   "outputs": [
    {
     "data": {
      "text/plain": [
       "1619673"
      ]
     },
     "execution_count": 54,
     "metadata": {},
     "output_type": "execute_result"
    }
   ],
   "source": [
    "final_lst.extend(list(set_df7))\n",
    "len(final_lst)"
   ]
  },
  {
   "cell_type": "markdown",
   "metadata": {},
   "source": [
    "### Add df8"
   ]
  },
  {
   "cell_type": "code",
   "execution_count": 55,
   "metadata": {},
   "outputs": [
    {
     "data": {
      "text/html": [
       "<div>\n",
       "<style scoped>\n",
       "    .dataframe tbody tr th:only-of-type {\n",
       "        vertical-align: middle;\n",
       "    }\n",
       "\n",
       "    .dataframe tbody tr th {\n",
       "        vertical-align: top;\n",
       "    }\n",
       "\n",
       "    .dataframe thead th {\n",
       "        text-align: right;\n",
       "    }\n",
       "</style>\n",
       "<table border=\"1\" class=\"dataframe\">\n",
       "  <thead>\n",
       "    <tr style=\"text-align: right;\">\n",
       "      <th></th>\n",
       "      <th>text</th>\n",
       "    </tr>\n",
       "  </thead>\n",
       "  <tbody>\n",
       "    <tr>\n",
       "      <th>0</th>\n",
       "      <td>بسم الله الرحمن الرحيم سورة الفاتحة . يقال لها...</td>\n",
       "    </tr>\n",
       "    <tr>\n",
       "      <th>1</th>\n",
       "      <td>سورة الفاتحة سميت هذه السورة بالفاتحة؛ لأنه يف...</td>\n",
       "    </tr>\n",
       "    <tr>\n",
       "      <th>2</th>\n",
       "      <td>البسملة اسم لكلمة باسم الله، صيغ هذا الاسم على...</td>\n",
       "    </tr>\n",
       "    <tr>\n",
       "      <th>3</th>\n",
       "      <td>{ بسم ٱلله الرَّحْمٰنِ الرَّحِيـمِ }الاسم: الل...</td>\n",
       "    </tr>\n",
       "    <tr>\n",
       "      <th>4</th>\n",
       "      <td>بسمالقول في تأويل { بسم} قال أبو جعفر : إن الل...</td>\n",
       "    </tr>\n",
       "    <tr>\n",
       "      <th>...</th>\n",
       "      <td>...</td>\n",
       "    </tr>\n",
       "    <tr>\n",
       "      <th>49883</th>\n",
       "      <td>وقوله : ( مِنَ الجنة والناس ) زيادة بيان للذى ...</td>\n",
       "    </tr>\n",
       "    <tr>\n",
       "      <th>49884</th>\n",
       "      <td>وقوله: ( الَّذِي يُوَسْوِسُ فِي صُدُورِ النَّا...</td>\n",
       "    </tr>\n",
       "    <tr>\n",
       "      <th>49885</th>\n",
       "      <td>قوله تعالى : من الجنة والناس أخبر أن الموسوس ق...</td>\n",
       "    </tr>\n",
       "    <tr>\n",
       "      <th>49886</th>\n",
       "      <td>وهذه السورة مشتملة على الاستعاذة برب الناس وما...</td>\n",
       "    </tr>\n",
       "    <tr>\n",
       "      <th>49887</th>\n",
       "      <td>( من الجنة والناس ) يعني يدخل في الجني كما يدخ...</td>\n",
       "    </tr>\n",
       "  </tbody>\n",
       "</table>\n",
       "<p>49888 rows × 1 columns</p>\n",
       "</div>"
      ],
      "text/plain": [
       "                                                    text\n",
       "0      بسم الله الرحمن الرحيم سورة الفاتحة . يقال لها...\n",
       "1      سورة الفاتحة سميت هذه السورة بالفاتحة؛ لأنه يف...\n",
       "2      البسملة اسم لكلمة باسم الله، صيغ هذا الاسم على...\n",
       "3      { بسم ٱلله الرَّحْمٰنِ الرَّحِيـمِ }الاسم: الل...\n",
       "4      بسمالقول في تأويل { بسم} قال أبو جعفر : إن الل...\n",
       "...                                                  ...\n",
       "49883  وقوله : ( مِنَ الجنة والناس ) زيادة بيان للذى ...\n",
       "49884  وقوله: ( الَّذِي يُوَسْوِسُ فِي صُدُورِ النَّا...\n",
       "49885  قوله تعالى : من الجنة والناس أخبر أن الموسوس ق...\n",
       "49886  وهذه السورة مشتملة على الاستعاذة برب الناس وما...\n",
       "49887  ( من الجنة والناس ) يعني يدخل في الجني كما يدخ...\n",
       "\n",
       "[49888 rows x 1 columns]"
      ]
     },
     "execution_count": 55,
     "metadata": {},
     "output_type": "execute_result"
    }
   ],
   "source": [
    "df8"
   ]
  },
  {
   "cell_type": "code",
   "execution_count": 57,
   "metadata": {},
   "outputs": [],
   "source": [
    "set_df8 = set()\n",
    "for _, row in df8.iterrows():\n",
    "    set_df8.add(row[0])"
   ]
  },
  {
   "cell_type": "code",
   "execution_count": 58,
   "metadata": {},
   "outputs": [
    {
     "data": {
      "text/plain": [
       "1666949"
      ]
     },
     "execution_count": 58,
     "metadata": {},
     "output_type": "execute_result"
    }
   ],
   "source": [
    "final_lst.extend(list(set_df8))\n",
    "len(final_lst)"
   ]
  },
  {
   "cell_type": "markdown",
   "metadata": {},
   "source": [
    "### Add df9"
   ]
  },
  {
   "cell_type": "code",
   "execution_count": 59,
   "metadata": {},
   "outputs": [
    {
     "data": {
      "text/html": [
       "<div>\n",
       "<style scoped>\n",
       "    .dataframe tbody tr th:only-of-type {\n",
       "        vertical-align: middle;\n",
       "    }\n",
       "\n",
       "    .dataframe tbody tr th {\n",
       "        vertical-align: top;\n",
       "    }\n",
       "\n",
       "    .dataframe thead th {\n",
       "        text-align: right;\n",
       "    }\n",
       "</style>\n",
       "<table border=\"1\" class=\"dataframe\">\n",
       "  <thead>\n",
       "    <tr style=\"text-align: right;\">\n",
       "      <th></th>\n",
       "      <th>text</th>\n",
       "    </tr>\n",
       "  </thead>\n",
       "  <tbody>\n",
       "    <tr>\n",
       "      <th>0</th>\n",
       "      <td>فَصَلِّ لِرَبِّكَ وَانْحَرْ</td>\n",
       "    </tr>\n",
       "    <tr>\n",
       "      <th>1</th>\n",
       "      <td>مَا أَفَاءَ اللَّهُ عَلَىٰ رَسُولِهِ مِنْ أَهْ...</td>\n",
       "    </tr>\n",
       "    <tr>\n",
       "      <th>2</th>\n",
       "      <td>أَفَأَنْتَ تُسْمِعُ الصُّمَّ أَوْ تَهْدِي الْع...</td>\n",
       "    </tr>\n",
       "    <tr>\n",
       "      <th>3</th>\n",
       "      <td>بَلْ عَجِبْتَ وَيَسْخَرُونَ</td>\n",
       "    </tr>\n",
       "    <tr>\n",
       "      <th>4</th>\n",
       "      <td>وَصَاحِبَتِهِ وَبَنِيهِ</td>\n",
       "    </tr>\n",
       "    <tr>\n",
       "      <th>...</th>\n",
       "      <td>...</td>\n",
       "    </tr>\n",
       "    <tr>\n",
       "      <th>71049</th>\n",
       "      <td>ذَٰلِكَ فَضْلُ اللَّهِ يُؤْتِيهِ مَنْ يَشَاءُ ...</td>\n",
       "    </tr>\n",
       "    <tr>\n",
       "      <th>71050</th>\n",
       "      <td>يَوْمَ يَتَذَكَّرُ الْإِنْسَانُ مَا سَعَىٰ</td>\n",
       "    </tr>\n",
       "    <tr>\n",
       "      <th>71051</th>\n",
       "      <td>يَوْمَ يَبْعَثُهُمُ اللَّهُ جَمِيعًا فَيَحْلِف...</td>\n",
       "    </tr>\n",
       "    <tr>\n",
       "      <th>71052</th>\n",
       "      <td>أَإِذَا مِتْنَا وَكُنَّا تُرَابًا وَعِظَامًا أ...</td>\n",
       "    </tr>\n",
       "    <tr>\n",
       "      <th>71053</th>\n",
       "      <td>بَشِيرًا وَنَذِيرًا فَأَعْرَضَ أَكْثَرُهُمْ فَ...</td>\n",
       "    </tr>\n",
       "  </tbody>\n",
       "</table>\n",
       "<p>71054 rows × 1 columns</p>\n",
       "</div>"
      ],
      "text/plain": [
       "                                                    text\n",
       "0                            فَصَلِّ لِرَبِّكَ وَانْحَرْ\n",
       "1      مَا أَفَاءَ اللَّهُ عَلَىٰ رَسُولِهِ مِنْ أَهْ...\n",
       "2      أَفَأَنْتَ تُسْمِعُ الصُّمَّ أَوْ تَهْدِي الْع...\n",
       "3                            بَلْ عَجِبْتَ وَيَسْخَرُونَ\n",
       "4                                وَصَاحِبَتِهِ وَبَنِيهِ\n",
       "...                                                  ...\n",
       "71049  ذَٰلِكَ فَضْلُ اللَّهِ يُؤْتِيهِ مَنْ يَشَاءُ ...\n",
       "71050         يَوْمَ يَتَذَكَّرُ الْإِنْسَانُ مَا سَعَىٰ\n",
       "71051  يَوْمَ يَبْعَثُهُمُ اللَّهُ جَمِيعًا فَيَحْلِف...\n",
       "71052  أَإِذَا مِتْنَا وَكُنَّا تُرَابًا وَعِظَامًا أ...\n",
       "71053  بَشِيرًا وَنَذِيرًا فَأَعْرَضَ أَكْثَرُهُمْ فَ...\n",
       "\n",
       "[71054 rows x 1 columns]"
      ]
     },
     "execution_count": 59,
     "metadata": {},
     "output_type": "execute_result"
    }
   ],
   "source": [
    "df9"
   ]
  },
  {
   "cell_type": "code",
   "execution_count": 60,
   "metadata": {},
   "outputs": [],
   "source": [
    "set_df9 = set()\n",
    "for _, row in df8.iterrows():\n",
    "    set_df9.add(row[0])"
   ]
  },
  {
   "cell_type": "code",
   "execution_count": 61,
   "metadata": {},
   "outputs": [
    {
     "data": {
      "text/plain": [
       "1714225"
      ]
     },
     "execution_count": 61,
     "metadata": {},
     "output_type": "execute_result"
    }
   ],
   "source": [
    "final_lst.extend(list(set_df9))\n",
    "len(final_lst)"
   ]
  },
  {
   "cell_type": "markdown",
   "metadata": {},
   "source": [
    "## Save the final dataset"
   ]
  },
  {
   "cell_type": "code",
   "execution_count": 62,
   "metadata": {},
   "outputs": [],
   "source": [
    "final_df['Text'] = final_lst"
   ]
  },
  {
   "cell_type": "code",
   "execution_count": 63,
   "metadata": {},
   "outputs": [
    {
     "data": {
      "text/html": [
       "<div>\n",
       "<style scoped>\n",
       "    .dataframe tbody tr th:only-of-type {\n",
       "        vertical-align: middle;\n",
       "    }\n",
       "\n",
       "    .dataframe tbody tr th {\n",
       "        vertical-align: top;\n",
       "    }\n",
       "\n",
       "    .dataframe thead th {\n",
       "        text-align: right;\n",
       "    }\n",
       "</style>\n",
       "<table border=\"1\" class=\"dataframe\">\n",
       "  <thead>\n",
       "    <tr style=\"text-align: right;\">\n",
       "      <th></th>\n",
       "      <th>Text</th>\n",
       "    </tr>\n",
       "  </thead>\n",
       "  <tbody>\n",
       "    <tr>\n",
       "      <th>0</th>\n",
       "      <td>هناك تساؤلات أثيرت حول كيفية مقاربة الباحثين ا...</td>\n",
       "    </tr>\n",
       "    <tr>\n",
       "      <th>1</th>\n",
       "      <td>علاوة على هذه السلطات، أوجد الدستور، في إطار م...</td>\n",
       "    </tr>\n",
       "    <tr>\n",
       "      <th>2</th>\n",
       "      <td>ننتمي نحن، أنا (مواليد 1945) وهنريك برودر (موا...</td>\n",
       "    </tr>\n",
       "    <tr>\n",
       "      <th>3</th>\n",
       "      <td>- رسالة أبي عمر الباجي (القرن الخامس الهجري/ا...</td>\n",
       "    </tr>\n",
       "    <tr>\n",
       "      <th>4</th>\n",
       "      <td>أمّا ابن حزم فلم يدرجه ضمن قائمة المؤلفين الأن...</td>\n",
       "    </tr>\n",
       "    <tr>\n",
       "      <th>...</th>\n",
       "      <td>...</td>\n",
       "    </tr>\n",
       "    <tr>\n",
       "      <th>1714220</th>\n",
       "      <td>يا أيها الذين صدَّقوا الله ورسوله وعملوا بشرعه...</td>\n",
       "    </tr>\n",
       "    <tr>\n",
       "      <th>1714221</th>\n",
       "      <td>( وما كان لنا عليكم من سلطان  ) من قوة وقدرة ف...</td>\n",
       "    </tr>\n",
       "    <tr>\n",
       "      <th>1714222</th>\n",
       "      <td>وقوله : ( فاتخذت مِن دُونِهِم حِجَاباً ) تأكيد...</td>\n",
       "    </tr>\n",
       "    <tr>\n",
       "      <th>1714223</th>\n",
       "      <td>وَاضْمُمْ يَدَكَ إِلَى جَنَاحِكَ تَخْرُجْ بَيْ...</td>\n",
       "    </tr>\n",
       "    <tr>\n",
       "      <th>1714224</th>\n",
       "      <td>والتزموا طاعة الله وطاعة رسوله في كل أحوالكم، ...</td>\n",
       "    </tr>\n",
       "  </tbody>\n",
       "</table>\n",
       "<p>1714225 rows × 1 columns</p>\n",
       "</div>"
      ],
      "text/plain": [
       "                                                      Text\n",
       "0        هناك تساؤلات أثيرت حول كيفية مقاربة الباحثين ا...\n",
       "1        علاوة على هذه السلطات، أوجد الدستور، في إطار م...\n",
       "2        ننتمي نحن، أنا (مواليد 1945) وهنريك برودر (موا...\n",
       "3         - رسالة أبي عمر الباجي (القرن الخامس الهجري/ا...\n",
       "4        أمّا ابن حزم فلم يدرجه ضمن قائمة المؤلفين الأن...\n",
       "...                                                    ...\n",
       "1714220  يا أيها الذين صدَّقوا الله ورسوله وعملوا بشرعه...\n",
       "1714221  ( وما كان لنا عليكم من سلطان  ) من قوة وقدرة ف...\n",
       "1714222  وقوله : ( فاتخذت مِن دُونِهِم حِجَاباً ) تأكيد...\n",
       "1714223  وَاضْمُمْ يَدَكَ إِلَى جَنَاحِكَ تَخْرُجْ بَيْ...\n",
       "1714224  والتزموا طاعة الله وطاعة رسوله في كل أحوالكم، ...\n",
       "\n",
       "[1714225 rows x 1 columns]"
      ]
     },
     "execution_count": 63,
     "metadata": {},
     "output_type": "execute_result"
    }
   ],
   "source": [
    "final_df"
   ]
  },
  {
   "cell_type": "code",
   "execution_count": 64,
   "metadata": {},
   "outputs": [],
   "source": [
    "os.mkdir('final_datasets')"
   ]
  },
  {
   "cell_type": "code",
   "execution_count": 66,
   "metadata": {},
   "outputs": [],
   "source": [
    "final_df.to_csv('./final_datasets/our_final_dataset.csv', encoding='utf-8-sig', index=False)"
   ]
  },
  {
   "cell_type": "markdown",
   "metadata": {},
   "source": [
    "### Count number of words contain tashkeel"
   ]
  },
  {
   "cell_type": "code",
   "execution_count": 25,
   "metadata": {},
   "outputs": [],
   "source": [
    "df = pd.read_csv('final_datasets/our_final_dataset.csv')"
   ]
  },
  {
   "cell_type": "code",
   "execution_count": 26,
   "metadata": {},
   "outputs": [
    {
     "data": {
      "text/html": [
       "<div>\n",
       "<style scoped>\n",
       "    .dataframe tbody tr th:only-of-type {\n",
       "        vertical-align: middle;\n",
       "    }\n",
       "\n",
       "    .dataframe tbody tr th {\n",
       "        vertical-align: top;\n",
       "    }\n",
       "\n",
       "    .dataframe thead th {\n",
       "        text-align: right;\n",
       "    }\n",
       "</style>\n",
       "<table border=\"1\" class=\"dataframe\">\n",
       "  <thead>\n",
       "    <tr style=\"text-align: right;\">\n",
       "      <th></th>\n",
       "      <th>Text</th>\n",
       "    </tr>\n",
       "  </thead>\n",
       "  <tbody>\n",
       "    <tr>\n",
       "      <th>0</th>\n",
       "      <td>يخرج النيل الأزرق من بحيرةٍ كأخيه الرزين، ولكن...</td>\n",
       "    </tr>\n",
       "    <tr>\n",
       "      <th>1</th>\n",
       "      <td>إن عثرات الحياة الدنيوية الحاضرة تُبعد الناس ع...</td>\n",
       "    </tr>\n",
       "    <tr>\n",
       "      <th>2</th>\n",
       "      <td>اللهجة لفظ يقصد به اللسان، وامتد معناه إلى لغة...</td>\n",
       "    </tr>\n",
       "    <tr>\n",
       "      <th>3</th>\n",
       "      <td>ثم على مسافة ٥٧ كيلومترًا من مجريط تقع وادي ال...</td>\n",
       "    </tr>\n",
       "    <tr>\n",
       "      <th>4</th>\n",
       "      <td>كانت ماريا دي تلكس شخصية معروفة جدًّا في الولا...</td>\n",
       "    </tr>\n",
       "    <tr>\n",
       "      <th>...</th>\n",
       "      <td>...</td>\n",
       "    </tr>\n",
       "    <tr>\n",
       "      <th>1038086</th>\n",
       "      <td>وقوله : ( مِنَ الجنة والناس ) زيادة بيان للذى ...</td>\n",
       "    </tr>\n",
       "    <tr>\n",
       "      <th>1038087</th>\n",
       "      <td>وقوله: ( الَّذِي يُوَسْوِسُ فِي صُدُورِ النَّا...</td>\n",
       "    </tr>\n",
       "    <tr>\n",
       "      <th>1038088</th>\n",
       "      <td>قوله تعالى : من الجنة والناس أخبر أن الموسوس ق...</td>\n",
       "    </tr>\n",
       "    <tr>\n",
       "      <th>1038089</th>\n",
       "      <td>وهذه السورة مشتملة على الاستعاذة برب الناس وما...</td>\n",
       "    </tr>\n",
       "    <tr>\n",
       "      <th>1038090</th>\n",
       "      <td>( من الجنة والناس ) يعني يدخل في الجني كما يدخ...</td>\n",
       "    </tr>\n",
       "  </tbody>\n",
       "</table>\n",
       "<p>1038091 rows × 1 columns</p>\n",
       "</div>"
      ],
      "text/plain": [
       "                                                      Text\n",
       "0        يخرج النيل الأزرق من بحيرةٍ كأخيه الرزين، ولكن...\n",
       "1        إن عثرات الحياة الدنيوية الحاضرة تُبعد الناس ع...\n",
       "2        اللهجة لفظ يقصد به اللسان، وامتد معناه إلى لغة...\n",
       "3        ثم على مسافة ٥٧ كيلومترًا من مجريط تقع وادي ال...\n",
       "4        كانت ماريا دي تلكس شخصية معروفة جدًّا في الولا...\n",
       "...                                                    ...\n",
       "1038086  وقوله : ( مِنَ الجنة والناس ) زيادة بيان للذى ...\n",
       "1038087  وقوله: ( الَّذِي يُوَسْوِسُ فِي صُدُورِ النَّا...\n",
       "1038088  قوله تعالى : من الجنة والناس أخبر أن الموسوس ق...\n",
       "1038089  وهذه السورة مشتملة على الاستعاذة برب الناس وما...\n",
       "1038090  ( من الجنة والناس ) يعني يدخل في الجني كما يدخ...\n",
       "\n",
       "[1038091 rows x 1 columns]"
      ]
     },
     "execution_count": 26,
     "metadata": {},
     "output_type": "execute_result"
    }
   ],
   "source": [
    "df"
   ]
  },
  {
   "cell_type": "code",
   "execution_count": 27,
   "metadata": {},
   "outputs": [
    {
     "name": "stdout",
     "output_type": "stream",
     "text": [
      "215482218 12515678 298923\n"
     ]
    }
   ],
   "source": [
    "count_words, count_tashkeel, count_tatweel = count_words_in_list(df['Text'].tolist())\n",
    "\n",
    "print(count_words, count_tashkeel, count_tatweel)"
   ]
  }
 ],
 "metadata": {
  "kernelspec": {
   "display_name": "Python 3",
   "language": "python",
   "name": "python3"
  },
  "language_info": {
   "codemirror_mode": {
    "name": "ipython",
    "version": 3
   },
   "file_extension": ".py",
   "mimetype": "text/x-python",
   "name": "python",
   "nbconvert_exporter": "python",
   "pygments_lexer": "ipython3",
   "version": "3.11.4"
  }
 },
 "nbformat": 4,
 "nbformat_minor": 2
}
