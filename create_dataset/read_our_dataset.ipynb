{
 "cells": [
  {
   "cell_type": "code",
   "execution_count": 1,
   "metadata": {},
   "outputs": [],
   "source": [
    "import json\n",
    "import pandas as pd\n",
    "from utilities import *"
   ]
  },
  {
   "cell_type": "code",
   "execution_count": 2,
   "metadata": {},
   "outputs": [],
   "source": [
    "with open('copy_of_all_books.json', 'r', encoding='utf-8-sig') as file:\n",
    "    read_file = file.read()\n",
    "\n",
    "data = json.loads(read_file)"
   ]
  },
  {
   "cell_type": "code",
   "execution_count": null,
   "metadata": {},
   "outputs": [],
   "source": [
    "df = pd.Dataframe(columns=['text'])"
   ]
  },
  {
   "cell_type": "code",
   "execution_count": 3,
   "metadata": {},
   "outputs": [
    {
     "data": {
      "text/plain": [
       "(94967167, 10522161, 13193)"
      ]
     },
     "execution_count": 3,
     "metadata": {},
     "output_type": "execute_result"
    }
   ],
   "source": [
    "num_words = 0\n",
    "num_tashkeel = 0\n",
    "num_tatweel = 0\n",
    "\n",
    "for book in data['books']:\n",
    "    if 'content' in book:\n",
    "        for page_key, page_content in book['content'].items():\n",
    "            if 'text' in page_content:\n",
    "                page_text = page_content['text']\n",
    "                current_num_words, current_num_tashkeel, current_num_tatweel = count_words_in_list(page_text.split())\n",
    "                num_words += current_num_words\n",
    "                num_tashkeel += current_num_tashkeel\n",
    "                num_tatweel += current_num_tatweel\n",
    "                    \n",
    "num_words, num_tashkeel, num_tatweel"
   ]
  },
  {
   "cell_type": "code",
   "execution_count": 4,
   "metadata": {},
   "outputs": [],
   "source": [
    "dict_rows = dict()\n",
    "\n",
    "for book in data['books']:\n",
    "    if 'content' in book:\n",
    "        for page_key, page_content in book['content'].items():\n",
    "            if 'text' in page_content:\n",
    "                page_text = page_content['text']\n",
    "                for word in page_text.split():\n",
    "                    if check_tashkeel(word) == True:\n",
    "                        if word in dict_rows:\n",
    "                            current_tashkeel_count, current_tatweel_count = dict_rows[page_text]\n",
    "                            dict_rows[page_text] = (current_tashkeel_count + 1, current_tatweel_count)\n",
    "                        else:\n",
    "                            dict_rows[page_text] = (1, 0)\n",
    "                    if check_tatweel(word) == True:\n",
    "                        if word in dict_rows:\n",
    "                            current_tashkeel_count, current_tatweel_count = dict_rows[page_text]\n",
    "                            dict_rows[page_text] = (current_tashkeel_count, current_tatweel_count + 1)\n",
    "                        else:\n",
    "                            dict_rows[page_text] = (0, 1)"
   ]
  },
  {
   "cell_type": "code",
   "execution_count": 8,
   "metadata": {},
   "outputs": [
    {
     "data": {
      "text/plain": [
       "42435"
      ]
     },
     "execution_count": 8,
     "metadata": {},
     "output_type": "execute_result"
    }
   ],
   "source": [
    "len(dict_rows)"
   ]
  },
  {
   "cell_type": "code",
   "execution_count": 11,
   "metadata": {},
   "outputs": [
    {
     "data": {
      "text/plain": [
       "(94289216, 10518662, 13193)"
      ]
     },
     "execution_count": 11,
     "metadata": {},
     "output_type": "execute_result"
    }
   ],
   "source": [
    "texts_lst = list(dict_rows.keys())\n",
    "count_words, count_tashkeel, count_tatweel = count_words_in_list(texts_lst)\n",
    "\n",
    "count_words, count_tashkeel, count_tatweel"
   ]
  },
  {
   "cell_type": "code",
   "execution_count": 12,
   "metadata": {},
   "outputs": [
    {
     "name": "stdout",
     "output_type": "stream",
     "text": [
      "Total number of words do not contain tatweel or tashkeel: 83757361\n"
     ]
    }
   ],
   "source": [
    "print(f'Total number of words do not contain tatweel or tashkeel: {count_words - (count_tashkeel + count_tatweel)}')"
   ]
  },
  {
   "cell_type": "code",
   "execution_count": 5,
   "metadata": {},
   "outputs": [
    {
     "data": {
      "text/plain": [
       "(42435, 42435, 42435)"
      ]
     },
     "execution_count": 5,
     "metadata": {},
     "output_type": "execute_result"
    }
   ],
   "source": [
    "text_lst = []\n",
    "num_tashkeel_lst = []\n",
    "num_tatweel_lst = []\n",
    "\n",
    "for item in dict_rows.items():\n",
    "    text_lst.append(item[0])\n",
    "    num_tashkeel_lst.append(item[1][0])\n",
    "    num_tatweel_lst.append(item[1][1])\n",
    "    \n",
    "len(text_lst), len(num_tashkeel_lst), len(num_tatweel_lst)"
   ]
  },
  {
   "cell_type": "code",
   "execution_count": 6,
   "metadata": {},
   "outputs": [],
   "source": [
    "df = pd.DataFrame(columns=['text', 'num_tashkeel', 'num_tatweel'])\n",
    "df['text'] = text_lst\n",
    "df['num_tashkeel'] = num_tashkeel_lst\n",
    "df['num_tatweel'] = num_tatweel_lst"
   ]
  },
  {
   "cell_type": "code",
   "execution_count": 7,
   "metadata": {},
   "outputs": [
    {
     "data": {
      "text/html": [
       "<div>\n",
       "<style scoped>\n",
       "    .dataframe tbody tr th:only-of-type {\n",
       "        vertical-align: middle;\n",
       "    }\n",
       "\n",
       "    .dataframe tbody tr th {\n",
       "        vertical-align: top;\n",
       "    }\n",
       "\n",
       "    .dataframe thead th {\n",
       "        text-align: right;\n",
       "    }\n",
       "</style>\n",
       "<table border=\"1\" class=\"dataframe\">\n",
       "  <thead>\n",
       "    <tr style=\"text-align: right;\">\n",
       "      <th></th>\n",
       "      <th>text</th>\n",
       "      <th>num_tashkeel</th>\n",
       "      <th>num_tatweel</th>\n",
       "    </tr>\n",
       "  </thead>\n",
       "  <tbody>\n",
       "    <tr>\n",
       "      <th>0</th>\n",
       "      <td>\\n\\n\\nمقدمة‏\\n١ - انتقام الأرشيف‏\\n٢ - من الذي...</td>\n",
       "      <td>1</td>\n",
       "      <td>0</td>\n",
       "    </tr>\n",
       "    <tr>\n",
       "      <th>1</th>\n",
       "      <td>\\n\\nكم عمر الغضب؟فؤاد زكريا الناشر مؤسسة هنداو...</td>\n",
       "      <td>1</td>\n",
       "      <td>0</td>\n",
       "    </tr>\n",
       "    <tr>\n",
       "      <th>2</th>\n",
       "      <td>\\n\\nمقدمة\\n\\n\\t\\t\\tقبل أن يظهر كتاب الأستاذ مح...</td>\n",
       "      <td>1</td>\n",
       "      <td>0</td>\n",
       "    </tr>\n",
       "    <tr>\n",
       "      <th>3</th>\n",
       "      <td>\\n\\nالفصل الأول\\nانتقام الأرشيف\\n\\n\\t\\t\\tلن أك...</td>\n",
       "      <td>1</td>\n",
       "      <td>0</td>\n",
       "    </tr>\n",
       "    <tr>\n",
       "      <th>4</th>\n",
       "      <td>\\n\\nالفصل الثاني\\nمن الذي يشتم مصر؟\\n\\n\\t\\t\\tأ...</td>\n",
       "      <td>1</td>\n",
       "      <td>0</td>\n",
       "    </tr>\n",
       "    <tr>\n",
       "      <th>...</th>\n",
       "      <td>...</td>\n",
       "      <td>...</td>\n",
       "      <td>...</td>\n",
       "    </tr>\n",
       "    <tr>\n",
       "      <th>42430</th>\n",
       "      <td>\\n\\nحدث في الليل\\n\\n\\t\\t\\tعندما انتصف الليل خُ...</td>\n",
       "      <td>1</td>\n",
       "      <td>0</td>\n",
       "    </tr>\n",
       "    <tr>\n",
       "      <th>42431</th>\n",
       "      <td>\\n\\nالرجل الغريب\\n\\n\\t\\t\\tاستيقظ «أحمد» على صو...</td>\n",
       "      <td>1</td>\n",
       "      <td>0</td>\n",
       "    </tr>\n",
       "    <tr>\n",
       "      <th>42432</th>\n",
       "      <td>\\n\\nبين نارين\\n\\n\\t\\t\\tأعاد «أحمد» فحص الجثة م...</td>\n",
       "      <td>1</td>\n",
       "      <td>0</td>\n",
       "    </tr>\n",
       "    <tr>\n",
       "      <th>42433</th>\n",
       "      <td>\\n\\nمفاجأة في القطار\\n\\n\\t\\t\\tبعد راحةٍ قصيرةٍ...</td>\n",
       "      <td>1</td>\n",
       "      <td>0</td>\n",
       "    </tr>\n",
       "    <tr>\n",
       "      <th>42434</th>\n",
       "      <td>\\n\\nأحداث في الظلام\\n\\n\\t\\t\\tدخل الدكتور «حسين...</td>\n",
       "      <td>1</td>\n",
       "      <td>0</td>\n",
       "    </tr>\n",
       "  </tbody>\n",
       "</table>\n",
       "<p>42435 rows × 3 columns</p>\n",
       "</div>"
      ],
      "text/plain": [
       "                                                    text  num_tashkeel  \\\n",
       "0      \\n\\n\\nمقدمة‏\\n١ - انتقام الأرشيف‏\\n٢ - من الذي...             1   \n",
       "1      \\n\\nكم عمر الغضب؟فؤاد زكريا الناشر مؤسسة هنداو...             1   \n",
       "2      \\n\\nمقدمة\\n\\n\\t\\t\\tقبل أن يظهر كتاب الأستاذ مح...             1   \n",
       "3      \\n\\nالفصل الأول\\nانتقام الأرشيف\\n\\n\\t\\t\\tلن أك...             1   \n",
       "4      \\n\\nالفصل الثاني\\nمن الذي يشتم مصر؟\\n\\n\\t\\t\\tأ...             1   \n",
       "...                                                  ...           ...   \n",
       "42430  \\n\\nحدث في الليل\\n\\n\\t\\t\\tعندما انتصف الليل خُ...             1   \n",
       "42431  \\n\\nالرجل الغريب\\n\\n\\t\\t\\tاستيقظ «أحمد» على صو...             1   \n",
       "42432  \\n\\nبين نارين\\n\\n\\t\\t\\tأعاد «أحمد» فحص الجثة م...             1   \n",
       "42433  \\n\\nمفاجأة في القطار\\n\\n\\t\\t\\tبعد راحةٍ قصيرةٍ...             1   \n",
       "42434  \\n\\nأحداث في الظلام\\n\\n\\t\\t\\tدخل الدكتور «حسين...             1   \n",
       "\n",
       "       num_tatweel  \n",
       "0                0  \n",
       "1                0  \n",
       "2                0  \n",
       "3                0  \n",
       "4                0  \n",
       "...            ...  \n",
       "42430            0  \n",
       "42431            0  \n",
       "42432            0  \n",
       "42433            0  \n",
       "42434            0  \n",
       "\n",
       "[42435 rows x 3 columns]"
      ]
     },
     "execution_count": 7,
     "metadata": {},
     "output_type": "execute_result"
    }
   ],
   "source": [
    "df"
   ]
  },
  {
   "cell_type": "code",
   "execution_count": 9,
   "metadata": {},
   "outputs": [],
   "source": [
    "new_text_lst, new_num_tashkeel_lst, new_num_tatweel_lst = split_data(df)"
   ]
  },
  {
   "cell_type": "code",
   "execution_count": 10,
   "metadata": {},
   "outputs": [],
   "source": [
    "last_df = pd.DataFrame(columns=['text', 'num_tashkeel', 'num_tatweel'])\n",
    "last_df['text'] = new_text_lst\n",
    "last_df['num_tashkeel'] = new_num_tashkeel_lst\n",
    "last_df['num_tatweel'] = new_num_tatweel_lst"
   ]
  },
  {
   "cell_type": "code",
   "execution_count": 11,
   "metadata": {},
   "outputs": [
    {
     "data": {
      "text/html": [
       "<div>\n",
       "<style scoped>\n",
       "    .dataframe tbody tr th:only-of-type {\n",
       "        vertical-align: middle;\n",
       "    }\n",
       "\n",
       "    .dataframe tbody tr th {\n",
       "        vertical-align: top;\n",
       "    }\n",
       "\n",
       "    .dataframe thead th {\n",
       "        text-align: right;\n",
       "    }\n",
       "</style>\n",
       "<table border=\"1\" class=\"dataframe\">\n",
       "  <thead>\n",
       "    <tr style=\"text-align: right;\">\n",
       "      <th></th>\n",
       "      <th>text</th>\n",
       "      <th>num_tashkeel</th>\n",
       "      <th>num_tatweel</th>\n",
       "    </tr>\n",
       "  </thead>\n",
       "  <tbody>\n",
       "    <tr>\n",
       "      <th>0</th>\n",
       "      <td>مقدمة‏ ١</td>\n",
       "      <td>0</td>\n",
       "      <td>0</td>\n",
       "    </tr>\n",
       "    <tr>\n",
       "      <th>1</th>\n",
       "      <td>- انتقام الأرشيف‏</td>\n",
       "      <td>0</td>\n",
       "      <td>0</td>\n",
       "    </tr>\n",
       "    <tr>\n",
       "      <th>2</th>\n",
       "      <td>٢ - من الذي</td>\n",
       "      <td>0</td>\n",
       "      <td>0</td>\n",
       "    </tr>\n",
       "    <tr>\n",
       "      <th>3</th>\n",
       "      <td>يشتم مصر؟‏ ٣ - لعبة</td>\n",
       "      <td>0</td>\n",
       "      <td>0</td>\n",
       "    </tr>\n",
       "    <tr>\n",
       "      <th>4</th>\n",
       "      <td>الأحياء والأموات‏ ٤ - ظروف العائلة</td>\n",
       "      <td>0</td>\n",
       "      <td>0</td>\n",
       "    </tr>\n",
       "    <tr>\n",
       "      <th>...</th>\n",
       "      <td>...</td>\n",
       "      <td>...</td>\n",
       "      <td>...</td>\n",
       "    </tr>\n",
       "    <tr>\n",
       "      <th>15743132</th>\n",
       "      <td>من الورود … عليها كلماتٌ رقيقةٌ</td>\n",
       "      <td>2</td>\n",
       "      <td>0</td>\n",
       "    </tr>\n",
       "    <tr>\n",
       "      <th>15743133</th>\n",
       "      <td>من رقم «صفر»، ثم هذه الجملة: تسافر</td>\n",
       "      <td>0</td>\n",
       "      <td>0</td>\n",
       "    </tr>\n",
       "    <tr>\n",
       "      <th>15743134</th>\n",
       "      <td>فورًا إلى «نابولي» … إنَّ «مادونا» في انتظارك.</td>\n",
       "      <td>2</td>\n",
       "      <td>0</td>\n",
       "    </tr>\n",
       "    <tr>\n",
       "      <th>15743135</th>\n",
       "      <td>وابتسم «أحمد» وخرج إلى الهواء الطلق والشمس الت...</td>\n",
       "      <td>0</td>\n",
       "      <td>0</td>\n",
       "    </tr>\n",
       "    <tr>\n",
       "      <th>15743136</th>\n",
       "      <td>بعد العاصفة.</td>\n",
       "      <td>0</td>\n",
       "      <td>0</td>\n",
       "    </tr>\n",
       "  </tbody>\n",
       "</table>\n",
       "<p>15743137 rows × 3 columns</p>\n",
       "</div>"
      ],
      "text/plain": [
       "                                                       text  num_tashkeel  \\\n",
       "0                                                  مقدمة‏ ١             0   \n",
       "1                                         - انتقام الأرشيف‏             0   \n",
       "2                                               ٢ - من الذي             0   \n",
       "3                                       يشتم مصر؟‏ ٣ - لعبة             0   \n",
       "4                        الأحياء والأموات‏ ٤ - ظروف العائلة             0   \n",
       "...                                                     ...           ...   \n",
       "15743132                    من الورود … عليها كلماتٌ رقيقةٌ             2   \n",
       "15743133                 من رقم «صفر»، ثم هذه الجملة: تسافر             0   \n",
       "15743134     فورًا إلى «نابولي» … إنَّ «مادونا» في انتظارك.             2   \n",
       "15743135  وابتسم «أحمد» وخرج إلى الهواء الطلق والشمس الت...             0   \n",
       "15743136                                       بعد العاصفة.             0   \n",
       "\n",
       "          num_tatweel  \n",
       "0                   0  \n",
       "1                   0  \n",
       "2                   0  \n",
       "3                   0  \n",
       "4                   0  \n",
       "...               ...  \n",
       "15743132            0  \n",
       "15743133            0  \n",
       "15743134            0  \n",
       "15743135            0  \n",
       "15743136            0  \n",
       "\n",
       "[15743137 rows x 3 columns]"
      ]
     },
     "execution_count": 11,
     "metadata": {},
     "output_type": "execute_result"
    }
   ],
   "source": [
    "last_df"
   ]
  },
  {
   "cell_type": "code",
   "execution_count": 12,
   "metadata": {},
   "outputs": [
    {
     "data": {
      "text/plain": [
       "(94288577, 10518499, 13190)"
      ]
     },
     "execution_count": 12,
     "metadata": {},
     "output_type": "execute_result"
    }
   ],
   "source": [
    "count_words_in_list(new_text_lst)"
   ]
  },
  {
   "cell_type": "code",
   "execution_count": 13,
   "metadata": {},
   "outputs": [],
   "source": [
    "all_harakat_df = last_df[(last_df['num_tashkeel'] > 0) | (last_df['num_tatweel'] > 0)]\n",
    "no_harakat_df = last_df[(last_df['num_tashkeel'] == 0) & (last_df['num_tatweel'] == 0)]"
   ]
  },
  {
   "cell_type": "code",
   "execution_count": 14,
   "metadata": {},
   "outputs": [
    {
     "name": "stdout",
     "output_type": "stream",
     "text": [
      "(6155772, 3) (9587365, 3)\n"
     ]
    }
   ],
   "source": [
    "print(all_harakat_df.shape, no_harakat_df.shape)"
   ]
  },
  {
   "cell_type": "code",
   "execution_count": 15,
   "metadata": {},
   "outputs": [
    {
     "name": "stdout",
     "output_type": "stream",
     "text": [
      "(41430192, 10518499, 13190) (52858385, 0, 0)\n"
     ]
    }
   ],
   "source": [
    "print(count_words_in_list(list(all_harakat_df.text)), count_words_in_list(list(no_harakat_df.text)))"
   ]
  },
  {
   "cell_type": "code",
   "execution_count": 16,
   "metadata": {},
   "outputs": [],
   "source": [
    "all_harakat_df.to_csv('final_datasets/our_dataset_cleaned/harakat_dataset.csv', encoding='utf-8-sig', index=False)\n",
    "no_harakat_df.to_csv('final_datasets/our_dataset_cleaned/no_harakat_dataset.csv', encoding='utf-8-sig', index=False)"
   ]
  },
  {
   "cell_type": "code",
   "execution_count": 24,
   "metadata": {},
   "outputs": [
    {
     "data": {
      "text/plain": [
       "1     3715210\n",
       "2     1464545\n",
       "3      541145\n",
       "4      209241\n",
       "5       90949\n",
       "6       49055\n",
       "7       32288\n",
       "8       23209\n",
       "9       16683\n",
       "10      10289\n",
       "0        3158\n",
       "Name: num_tashkeel, dtype: int64"
      ]
     },
     "execution_count": 24,
     "metadata": {},
     "output_type": "execute_result"
    }
   ],
   "source": [
    "all_harakat_df.num_tashkeel.value_counts()"
   ]
  },
  {
   "cell_type": "code",
   "execution_count": 25,
   "metadata": {},
   "outputs": [
    {
     "data": {
      "text/plain": [
       "0    6143428\n",
       "1      11611\n",
       "2        663\n",
       "3         44\n",
       "4         16\n",
       "5          5\n",
       "6          3\n",
       "7          2\n",
       "Name: num_tatweel, dtype: int64"
      ]
     },
     "execution_count": 25,
     "metadata": {},
     "output_type": "execute_result"
    }
   ],
   "source": [
    "all_harakat_df.num_tatweel.value_counts()"
   ]
  },
  {
   "cell_type": "code",
   "execution_count": 26,
   "metadata": {},
   "outputs": [
    {
     "data": {
      "text/plain": [
       "10    944508\n",
       "9     896063\n",
       "8     842358\n",
       "7     781701\n",
       "6     713919\n",
       "5     639391\n",
       "4     551740\n",
       "3     450901\n",
       "2     334451\n",
       "1        740\n",
       "Name: text, dtype: int64"
      ]
     },
     "execution_count": 26,
     "metadata": {},
     "output_type": "execute_result"
    }
   ],
   "source": [
    "lengths = all_harakat_df.text.apply(lambda x: len(x.split()))\n",
    "lengths.value_counts()"
   ]
  }
 ],
 "metadata": {
  "kernelspec": {
   "display_name": "Python 3",
   "language": "python",
   "name": "python3"
  },
  "language_info": {
   "codemirror_mode": {
    "name": "ipython",
    "version": 3
   },
   "file_extension": ".py",
   "mimetype": "text/x-python",
   "name": "python",
   "nbconvert_exporter": "python",
   "pygments_lexer": "ipython3",
   "version": "3.11.4"
  }
 },
 "nbformat": 4,
 "nbformat_minor": 2
}
