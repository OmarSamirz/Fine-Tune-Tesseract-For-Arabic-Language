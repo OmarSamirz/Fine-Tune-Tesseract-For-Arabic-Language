{
  "nbformat": 4,
  "nbformat_minor": 0,
  "metadata": {
    "colab": {
      "provenance": []
    },
    "kernelspec": {
      "name": "python3",
      "display_name": "Python 3"
    },
    "language_info": {
      "name": "python"
    }
  },
  "cells": [
    {
      "cell_type": "markdown",
      "source": [
        "## Install Shakkala"
      ],
      "metadata": {
        "id": "mg0l76nCqYSM"
      }
    },
    {
      "cell_type": "code",
      "source": [
        "!pip install shakkala"
      ],
      "metadata": {
        "colab": {
          "base_uri": "https://localhost:8080/",
          "height": 1000
        },
        "id": "ViFjazqzqR8b",
        "outputId": "cc954abf-2896-48b8-d2c7-52c89712a1d0"
      },
      "execution_count": null,
      "outputs": [
        {
          "output_type": "stream",
          "name": "stdout",
          "text": [
            "Collecting shakkala\n",
            "  Downloading shakkala-1.7-py3-none-any.whl (73.3 MB)\n",
            "\u001b[2K     \u001b[90m━━━━━━━━━━━━━━━━━━━━━━━━━━━━━━━━━━━━━━━━\u001b[0m \u001b[32m73.3/73.3 MB\u001b[0m \u001b[31m2.0 MB/s\u001b[0m eta \u001b[36m0:00:00\u001b[0m\n",
            "\u001b[?25hCollecting tensorflow==2.9.3 (from shakkala)\n",
            "  Downloading tensorflow-2.9.3-cp310-cp310-manylinux_2_17_x86_64.manylinux2014_x86_64.whl (511.8 MB)\n",
            "\u001b[2K     \u001b[90m━━━━━━━━━━━━━━━━━━━━━━━━━━━━━━━━━━━━━━━━\u001b[0m \u001b[32m511.8/511.8 MB\u001b[0m \u001b[31m2.5 MB/s\u001b[0m eta \u001b[36m0:00:00\u001b[0m\n",
            "\u001b[?25hCollecting h5py==3.8.0 (from shakkala)\n",
            "  Downloading h5py-3.8.0-cp310-cp310-manylinux_2_17_x86_64.manylinux2014_x86_64.whl (4.6 MB)\n",
            "\u001b[2K     \u001b[90m━━━━━━━━━━━━━━━━━━━━━━━━━━━━━━━━━━━━━━━━\u001b[0m \u001b[32m4.6/4.6 MB\u001b[0m \u001b[31m42.6 MB/s\u001b[0m eta \u001b[36m0:00:00\u001b[0m\n",
            "\u001b[?25hCollecting nltk==3.6.6 (from shakkala)\n",
            "  Downloading nltk-3.6.6-py3-none-any.whl (1.5 MB)\n",
            "\u001b[2K     \u001b[90m━━━━━━━━━━━━━━━━━━━━━━━━━━━━━━━━━━━━━━━━\u001b[0m \u001b[32m1.5/1.5 MB\u001b[0m \u001b[31m40.2 MB/s\u001b[0m eta \u001b[36m0:00:00\u001b[0m\n",
            "\u001b[?25hCollecting numpy==1.24.1 (from shakkala)\n",
            "  Downloading numpy-1.24.1-cp310-cp310-manylinux_2_17_x86_64.manylinux2014_x86_64.whl (17.3 MB)\n",
            "\u001b[2K     \u001b[90m━━━━━━━━━━━━━━━━━━━━━━━━━━━━━━━━━━━━━━━━\u001b[0m \u001b[32m17.3/17.3 MB\u001b[0m \u001b[31m40.4 MB/s\u001b[0m eta \u001b[36m0:00:00\u001b[0m\n",
            "\u001b[?25hCollecting click==8.1.3 (from shakkala)\n",
            "  Downloading click-8.1.3-py3-none-any.whl (96 kB)\n",
            "\u001b[2K     \u001b[90m━━━━━━━━━━━━━━━━━━━━━━━━━━━━━━━━━━━━━━━━\u001b[0m \u001b[32m96.6/96.6 kB\u001b[0m \u001b[31m12.6 MB/s\u001b[0m eta \u001b[36m0:00:00\u001b[0m\n",
            "\u001b[?25hRequirement already satisfied: joblib in /usr/local/lib/python3.10/dist-packages (from nltk==3.6.6->shakkala) (1.4.2)\n",
            "Requirement already satisfied: regex>=2021.8.3 in /usr/local/lib/python3.10/dist-packages (from nltk==3.6.6->shakkala) (2023.12.25)\n",
            "Requirement already satisfied: tqdm in /usr/local/lib/python3.10/dist-packages (from nltk==3.6.6->shakkala) (4.66.4)\n",
            "Requirement already satisfied: absl-py>=1.0.0 in /usr/local/lib/python3.10/dist-packages (from tensorflow==2.9.3->shakkala) (1.4.0)\n",
            "Requirement already satisfied: astunparse>=1.6.0 in /usr/local/lib/python3.10/dist-packages (from tensorflow==2.9.3->shakkala) (1.6.3)\n",
            "Collecting flatbuffers<2,>=1.12 (from tensorflow==2.9.3->shakkala)\n",
            "  Downloading flatbuffers-1.12-py2.py3-none-any.whl (15 kB)\n",
            "Collecting gast<=0.4.0,>=0.2.1 (from tensorflow==2.9.3->shakkala)\n",
            "  Downloading gast-0.4.0-py3-none-any.whl (9.8 kB)\n",
            "Requirement already satisfied: google-pasta>=0.1.1 in /usr/local/lib/python3.10/dist-packages (from tensorflow==2.9.3->shakkala) (0.2.0)\n",
            "Requirement already satisfied: grpcio<2.0,>=1.24.3 in /usr/local/lib/python3.10/dist-packages (from tensorflow==2.9.3->shakkala) (1.64.0)\n",
            "Collecting keras<2.10.0,>=2.9.0rc0 (from tensorflow==2.9.3->shakkala)\n",
            "  Downloading keras-2.9.0-py2.py3-none-any.whl (1.6 MB)\n",
            "\u001b[2K     \u001b[90m━━━━━━━━━━━━━━━━━━━━━━━━━━━━━━━━━━━━━━━━\u001b[0m \u001b[32m1.6/1.6 MB\u001b[0m \u001b[31m10.6 MB/s\u001b[0m eta \u001b[36m0:00:00\u001b[0m\n",
            "\u001b[?25hCollecting keras-preprocessing>=1.1.1 (from tensorflow==2.9.3->shakkala)\n",
            "  Downloading Keras_Preprocessing-1.1.2-py2.py3-none-any.whl (42 kB)\n",
            "\u001b[2K     \u001b[90m━━━━━━━━━━━━━━━━━━━━━━━━━━━━━━━━━━━━━━━━\u001b[0m \u001b[32m42.6/42.6 kB\u001b[0m \u001b[31m5.3 MB/s\u001b[0m eta \u001b[36m0:00:00\u001b[0m\n",
            "\u001b[?25hRequirement already satisfied: libclang>=13.0.0 in /usr/local/lib/python3.10/dist-packages (from tensorflow==2.9.3->shakkala) (18.1.1)\n",
            "Requirement already satisfied: opt-einsum>=2.3.2 in /usr/local/lib/python3.10/dist-packages (from tensorflow==2.9.3->shakkala) (3.3.0)\n",
            "Requirement already satisfied: packaging in /usr/local/lib/python3.10/dist-packages (from tensorflow==2.9.3->shakkala) (24.0)\n",
            "Collecting protobuf<3.20,>=3.9.2 (from tensorflow==2.9.3->shakkala)\n",
            "  Downloading protobuf-3.19.6-cp310-cp310-manylinux_2_17_x86_64.manylinux2014_x86_64.whl (1.1 MB)\n",
            "\u001b[2K     \u001b[90m━━━━━━━━━━━━━━━━━━━━━━━━━━━━━━━━━━━━━━━━\u001b[0m \u001b[32m1.1/1.1 MB\u001b[0m \u001b[31m39.1 MB/s\u001b[0m eta \u001b[36m0:00:00\u001b[0m\n",
            "\u001b[?25hRequirement already satisfied: setuptools in /usr/local/lib/python3.10/dist-packages (from tensorflow==2.9.3->shakkala) (67.7.2)\n",
            "Requirement already satisfied: six>=1.12.0 in /usr/local/lib/python3.10/dist-packages (from tensorflow==2.9.3->shakkala) (1.16.0)\n",
            "Collecting tensorboard<2.10,>=2.9 (from tensorflow==2.9.3->shakkala)\n",
            "  Downloading tensorboard-2.9.1-py3-none-any.whl (5.8 MB)\n",
            "\u001b[2K     \u001b[90m━━━━━━━━━━━━━━━━━━━━━━━━━━━━━━━━━━━━━━━━\u001b[0m \u001b[32m5.8/5.8 MB\u001b[0m \u001b[31m46.8 MB/s\u001b[0m eta \u001b[36m0:00:00\u001b[0m\n",
            "\u001b[?25hRequirement already satisfied: tensorflow-io-gcs-filesystem>=0.23.1 in /usr/local/lib/python3.10/dist-packages (from tensorflow==2.9.3->shakkala) (0.37.0)\n",
            "Collecting tensorflow-estimator<2.10.0,>=2.9.0rc0 (from tensorflow==2.9.3->shakkala)\n",
            "  Downloading tensorflow_estimator-2.9.0-py2.py3-none-any.whl (438 kB)\n",
            "\u001b[2K     \u001b[90m━━━━━━━━━━━━━━━━━━━━━━━━━━━━━━━━━━━━━━━━\u001b[0m \u001b[32m438.7/438.7 kB\u001b[0m \u001b[31m32.6 MB/s\u001b[0m eta \u001b[36m0:00:00\u001b[0m\n",
            "\u001b[?25hRequirement already satisfied: termcolor>=1.1.0 in /usr/local/lib/python3.10/dist-packages (from tensorflow==2.9.3->shakkala) (2.4.0)\n",
            "Requirement already satisfied: typing-extensions>=3.6.6 in /usr/local/lib/python3.10/dist-packages (from tensorflow==2.9.3->shakkala) (4.11.0)\n",
            "Requirement already satisfied: wrapt>=1.11.0 in /usr/local/lib/python3.10/dist-packages (from tensorflow==2.9.3->shakkala) (1.14.1)\n",
            "Requirement already satisfied: wheel<1.0,>=0.23.0 in /usr/local/lib/python3.10/dist-packages (from astunparse>=1.6.0->tensorflow==2.9.3->shakkala) (0.43.0)\n",
            "Requirement already satisfied: google-auth<3,>=1.6.3 in /usr/local/lib/python3.10/dist-packages (from tensorboard<2.10,>=2.9->tensorflow==2.9.3->shakkala) (2.27.0)\n",
            "Collecting google-auth-oauthlib<0.5,>=0.4.1 (from tensorboard<2.10,>=2.9->tensorflow==2.9.3->shakkala)\n",
            "  Downloading google_auth_oauthlib-0.4.6-py2.py3-none-any.whl (18 kB)\n",
            "Requirement already satisfied: markdown>=2.6.8 in /usr/local/lib/python3.10/dist-packages (from tensorboard<2.10,>=2.9->tensorflow==2.9.3->shakkala) (3.6)\n",
            "Requirement already satisfied: requests<3,>=2.21.0 in /usr/local/lib/python3.10/dist-packages (from tensorboard<2.10,>=2.9->tensorflow==2.9.3->shakkala) (2.31.0)\n",
            "Collecting tensorboard-data-server<0.7.0,>=0.6.0 (from tensorboard<2.10,>=2.9->tensorflow==2.9.3->shakkala)\n",
            "  Downloading tensorboard_data_server-0.6.1-py3-none-manylinux2010_x86_64.whl (4.9 MB)\n",
            "\u001b[2K     \u001b[90m━━━━━━━━━━━━━━━━━━━━━━━━━━━━━━━━━━━━━━━━\u001b[0m \u001b[32m4.9/4.9 MB\u001b[0m \u001b[31m49.4 MB/s\u001b[0m eta \u001b[36m0:00:00\u001b[0m\n",
            "\u001b[?25hCollecting tensorboard-plugin-wit>=1.6.0 (from tensorboard<2.10,>=2.9->tensorflow==2.9.3->shakkala)\n",
            "  Downloading tensorboard_plugin_wit-1.8.1-py3-none-any.whl (781 kB)\n",
            "\u001b[2K     \u001b[90m━━━━━━━━━━━━━━━━━━━━━━━━━━━━━━━━━━━━━━━━\u001b[0m \u001b[32m781.3/781.3 kB\u001b[0m \u001b[31m32.8 MB/s\u001b[0m eta \u001b[36m0:00:00\u001b[0m\n",
            "\u001b[?25hRequirement already satisfied: werkzeug>=1.0.1 in /usr/local/lib/python3.10/dist-packages (from tensorboard<2.10,>=2.9->tensorflow==2.9.3->shakkala) (3.0.3)\n",
            "Requirement already satisfied: cachetools<6.0,>=2.0.0 in /usr/local/lib/python3.10/dist-packages (from google-auth<3,>=1.6.3->tensorboard<2.10,>=2.9->tensorflow==2.9.3->shakkala) (5.3.3)\n",
            "Requirement already satisfied: pyasn1-modules>=0.2.1 in /usr/local/lib/python3.10/dist-packages (from google-auth<3,>=1.6.3->tensorboard<2.10,>=2.9->tensorflow==2.9.3->shakkala) (0.4.0)\n",
            "Requirement already satisfied: rsa<5,>=3.1.4 in /usr/local/lib/python3.10/dist-packages (from google-auth<3,>=1.6.3->tensorboard<2.10,>=2.9->tensorflow==2.9.3->shakkala) (4.9)\n",
            "Requirement already satisfied: requests-oauthlib>=0.7.0 in /usr/local/lib/python3.10/dist-packages (from google-auth-oauthlib<0.5,>=0.4.1->tensorboard<2.10,>=2.9->tensorflow==2.9.3->shakkala) (1.3.1)\n",
            "Requirement already satisfied: charset-normalizer<4,>=2 in /usr/local/lib/python3.10/dist-packages (from requests<3,>=2.21.0->tensorboard<2.10,>=2.9->tensorflow==2.9.3->shakkala) (3.3.2)\n",
            "Requirement already satisfied: idna<4,>=2.5 in /usr/local/lib/python3.10/dist-packages (from requests<3,>=2.21.0->tensorboard<2.10,>=2.9->tensorflow==2.9.3->shakkala) (3.7)\n",
            "Requirement already satisfied: urllib3<3,>=1.21.1 in /usr/local/lib/python3.10/dist-packages (from requests<3,>=2.21.0->tensorboard<2.10,>=2.9->tensorflow==2.9.3->shakkala) (2.0.7)\n",
            "Requirement already satisfied: certifi>=2017.4.17 in /usr/local/lib/python3.10/dist-packages (from requests<3,>=2.21.0->tensorboard<2.10,>=2.9->tensorflow==2.9.3->shakkala) (2024.2.2)\n",
            "Requirement already satisfied: MarkupSafe>=2.1.1 in /usr/local/lib/python3.10/dist-packages (from werkzeug>=1.0.1->tensorboard<2.10,>=2.9->tensorflow==2.9.3->shakkala) (2.1.5)\n",
            "Requirement already satisfied: pyasn1<0.7.0,>=0.4.6 in /usr/local/lib/python3.10/dist-packages (from pyasn1-modules>=0.2.1->google-auth<3,>=1.6.3->tensorboard<2.10,>=2.9->tensorflow==2.9.3->shakkala) (0.6.0)\n",
            "Requirement already satisfied: oauthlib>=3.0.0 in /usr/local/lib/python3.10/dist-packages (from requests-oauthlib>=0.7.0->google-auth-oauthlib<0.5,>=0.4.1->tensorboard<2.10,>=2.9->tensorflow==2.9.3->shakkala) (3.2.2)\n",
            "Installing collected packages: tensorboard-plugin-wit, keras, flatbuffers, tensorflow-estimator, tensorboard-data-server, protobuf, numpy, gast, click, nltk, keras-preprocessing, h5py, google-auth-oauthlib, tensorboard, tensorflow, shakkala\n",
            "  Attempting uninstall: keras\n",
            "    Found existing installation: keras 2.15.0\n",
            "    Uninstalling keras-2.15.0:\n",
            "      Successfully uninstalled keras-2.15.0\n",
            "  Attempting uninstall: flatbuffers\n",
            "    Found existing installation: flatbuffers 24.3.25\n",
            "    Uninstalling flatbuffers-24.3.25:\n",
            "      Successfully uninstalled flatbuffers-24.3.25\n",
            "  Attempting uninstall: tensorflow-estimator\n",
            "    Found existing installation: tensorflow-estimator 2.15.0\n",
            "    Uninstalling tensorflow-estimator-2.15.0:\n",
            "      Successfully uninstalled tensorflow-estimator-2.15.0\n",
            "  Attempting uninstall: tensorboard-data-server\n",
            "    Found existing installation: tensorboard-data-server 0.7.2\n",
            "    Uninstalling tensorboard-data-server-0.7.2:\n",
            "      Successfully uninstalled tensorboard-data-server-0.7.2\n",
            "  Attempting uninstall: protobuf\n",
            "    Found existing installation: protobuf 3.20.3\n",
            "    Uninstalling protobuf-3.20.3:\n",
            "      Successfully uninstalled protobuf-3.20.3\n",
            "  Attempting uninstall: numpy\n",
            "    Found existing installation: numpy 1.25.2\n",
            "    Uninstalling numpy-1.25.2:\n",
            "      Successfully uninstalled numpy-1.25.2\n",
            "  Attempting uninstall: gast\n",
            "    Found existing installation: gast 0.5.4\n",
            "    Uninstalling gast-0.5.4:\n",
            "      Successfully uninstalled gast-0.5.4\n",
            "  Attempting uninstall: click\n",
            "    Found existing installation: click 8.1.7\n",
            "    Uninstalling click-8.1.7:\n",
            "      Successfully uninstalled click-8.1.7\n",
            "  Attempting uninstall: nltk\n",
            "    Found existing installation: nltk 3.8.1\n",
            "    Uninstalling nltk-3.8.1:\n",
            "      Successfully uninstalled nltk-3.8.1\n",
            "  Attempting uninstall: h5py\n",
            "    Found existing installation: h5py 3.9.0\n",
            "    Uninstalling h5py-3.9.0:\n",
            "      Successfully uninstalled h5py-3.9.0\n",
            "  Attempting uninstall: google-auth-oauthlib\n",
            "    Found existing installation: google-auth-oauthlib 1.2.0\n",
            "    Uninstalling google-auth-oauthlib-1.2.0:\n",
            "      Successfully uninstalled google-auth-oauthlib-1.2.0\n",
            "  Attempting uninstall: tensorboard\n",
            "    Found existing installation: tensorboard 2.15.2\n",
            "    Uninstalling tensorboard-2.15.2:\n",
            "      Successfully uninstalled tensorboard-2.15.2\n",
            "  Attempting uninstall: tensorflow\n",
            "    Found existing installation: tensorflow 2.15.0\n",
            "    Uninstalling tensorflow-2.15.0:\n",
            "      Successfully uninstalled tensorflow-2.15.0\n",
            "\u001b[31mERROR: pip's dependency resolver does not currently take into account all the packages that are installed. This behaviour is the source of the following dependency conflicts.\n",
            "cudf-cu12 24.4.1 requires protobuf<5,>=3.20, but you have protobuf 3.19.6 which is incompatible.\n",
            "pandas-gbq 0.19.2 requires google-auth-oauthlib>=0.7.0, but you have google-auth-oauthlib 0.4.6 which is incompatible.\n",
            "pandas-stubs 2.0.3.230814 requires numpy>=1.25.0; python_version >= \"3.9\", but you have numpy 1.24.1 which is incompatible.\n",
            "tensorflow-datasets 4.9.4 requires protobuf>=3.20, but you have protobuf 3.19.6 which is incompatible.\n",
            "tensorflow-metadata 1.15.0 requires protobuf<4.21,>=3.20.3; python_version < \"3.11\", but you have protobuf 3.19.6 which is incompatible.\n",
            "tf-keras 2.15.1 requires tensorflow<2.16,>=2.15, but you have tensorflow 2.9.3 which is incompatible.\u001b[0m\u001b[31m\n",
            "\u001b[0mSuccessfully installed click-8.1.3 flatbuffers-1.12 gast-0.4.0 google-auth-oauthlib-0.4.6 h5py-3.8.0 keras-2.9.0 keras-preprocessing-1.1.2 nltk-3.6.6 numpy-1.24.1 protobuf-3.19.6 shakkala-1.7 tensorboard-2.9.1 tensorboard-data-server-0.6.1 tensorboard-plugin-wit-1.8.1 tensorflow-2.9.3 tensorflow-estimator-2.9.0\n"
          ]
        },
        {
          "output_type": "display_data",
          "data": {
            "application/vnd.colab-display-data+json": {
              "pip_warning": {
                "packages": [
                  "google",
                  "numpy"
                ]
              },
              "id": "2c044fabfd3d4fd1b8a56f54302806f5"
            }
          },
          "metadata": {}
        }
      ]
    },
    {
      "cell_type": "markdown",
      "metadata": {
        "id": "Ama1vBUUHbI1"
      },
      "source": [
        "## Install libtashkeel"
      ]
    },
    {
      "cell_type": "code",
      "execution_count": null,
      "metadata": {
        "colab": {
          "base_uri": "https://localhost:8080/"
        },
        "id": "oJzoVRQ9Fo3v",
        "outputId": "ed5436a5-1e52-42d7-8a7b-981efb95241d"
      },
      "outputs": [
        {
          "output_type": "stream",
          "name": "stdout",
          "text": [
            "Cloning into 'libtashkeel'...\n",
            "remote: Enumerating objects: 474, done.\u001b[K\n",
            "remote: Counting objects: 100% (137/137), done.\u001b[K\n",
            "remote: Compressing objects: 100% (108/108), done.\u001b[K\n",
            "remote: Total 474 (delta 42), reused 116 (delta 25), pack-reused 337\u001b[K\n",
            "Receiving objects: 100% (474/474), 99.05 MiB | 22.75 MiB/s, done.\n",
            "Resolving deltas: 100% (172/172), done.\n"
          ]
        }
      ],
      "source": [
        "!git clone -b develop https://github.com/mush42/libtashkeel.git\n",
        "!mv ./libtashkeel/cargo.toml ./libtashkeel/Cargo.toml"
      ]
    },
    {
      "cell_type": "code",
      "execution_count": null,
      "metadata": {
        "colab": {
          "base_uri": "https://localhost:8080/"
        },
        "id": "WFE773lNIPjf",
        "outputId": "c07a787c-aae1-4e7f-8d49-f469f0c5434f"
      },
      "outputs": [
        {
          "output_type": "stream",
          "name": "stdout",
          "text": [
            "Reading package lists... Done\n",
            "Building dependency tree... Done\n",
            "Reading state information... Done\n",
            "The following additional packages will be installed:\n",
            "  libstd-rust-1.75 libstd-rust-dev rustc\n",
            "Suggested packages:\n",
            "  cargo-doc llvm-17 lld-17 clang-17\n",
            "The following NEW packages will be installed:\n",
            "  cargo libstd-rust-1.75 libstd-rust-dev rustc\n",
            "0 upgraded, 4 newly installed, 0 to remove and 45 not upgraded.\n",
            "Need to get 98.1 MB of archives.\n",
            "After this operation, 392 MB of additional disk space will be used.\n",
            "Get:1 http://archive.ubuntu.com/ubuntu jammy-updates/main amd64 libstd-rust-1.75 amd64 1.75.0+dfsg0ubuntu1~bpo0-0ubuntu0.22.04 [46.3 MB]\n",
            "Get:2 http://archive.ubuntu.com/ubuntu jammy-updates/main amd64 libstd-rust-dev amd64 1.75.0+dfsg0ubuntu1~bpo0-0ubuntu0.22.04 [41.6 MB]\n",
            "Get:3 http://archive.ubuntu.com/ubuntu jammy-updates/main amd64 rustc amd64 1.75.0+dfsg0ubuntu1~bpo0-0ubuntu0.22.04 [3,404 kB]\n",
            "Get:4 http://archive.ubuntu.com/ubuntu jammy-updates/universe amd64 cargo amd64 1.75.0+dfsg0ubuntu1~bpo0-0ubuntu0.22.04 [6,700 kB]\n",
            "Fetched 98.1 MB in 12s (7,938 kB/s)\n",
            "debconf: unable to initialize frontend: Dialog\n",
            "debconf: (No usable dialog-like program is installed, so the dialog based frontend cannot be used. at /usr/share/perl5/Debconf/FrontEnd/Dialog.pm line 78, <> line 4.)\n",
            "debconf: falling back to frontend: Readline\n",
            "debconf: unable to initialize frontend: Readline\n",
            "debconf: (This frontend requires a controlling tty.)\n",
            "debconf: falling back to frontend: Teletype\n",
            "dpkg-preconfigure: unable to re-open stdin: \n",
            "Selecting previously unselected package libstd-rust-1.75:amd64.\n",
            "(Reading database ... 121918 files and directories currently installed.)\n",
            "Preparing to unpack .../libstd-rust-1.75_1.75.0+dfsg0ubuntu1~bpo0-0ubuntu0.22.04_amd64.deb ...\n",
            "Unpacking libstd-rust-1.75:amd64 (1.75.0+dfsg0ubuntu1~bpo0-0ubuntu0.22.04) ...\n",
            "Selecting previously unselected package libstd-rust-dev:amd64.\n",
            "Preparing to unpack .../libstd-rust-dev_1.75.0+dfsg0ubuntu1~bpo0-0ubuntu0.22.04_amd64.deb ...\n",
            "Unpacking libstd-rust-dev:amd64 (1.75.0+dfsg0ubuntu1~bpo0-0ubuntu0.22.04) ...\n",
            "Selecting previously unselected package rustc.\n",
            "Preparing to unpack .../rustc_1.75.0+dfsg0ubuntu1~bpo0-0ubuntu0.22.04_amd64.deb ...\n",
            "Unpacking rustc (1.75.0+dfsg0ubuntu1~bpo0-0ubuntu0.22.04) ...\n",
            "Selecting previously unselected package cargo.\n",
            "Preparing to unpack .../cargo_1.75.0+dfsg0ubuntu1~bpo0-0ubuntu0.22.04_amd64.deb ...\n",
            "Unpacking cargo (1.75.0+dfsg0ubuntu1~bpo0-0ubuntu0.22.04) ...\n",
            "Setting up libstd-rust-1.75:amd64 (1.75.0+dfsg0ubuntu1~bpo0-0ubuntu0.22.04) ...\n",
            "Setting up libstd-rust-dev:amd64 (1.75.0+dfsg0ubuntu1~bpo0-0ubuntu0.22.04) ...\n",
            "Setting up rustc (1.75.0+dfsg0ubuntu1~bpo0-0ubuntu0.22.04) ...\n",
            "Setting up cargo (1.75.0+dfsg0ubuntu1~bpo0-0ubuntu0.22.04) ...\n",
            "Processing triggers for man-db (2.10.2-1) ...\n",
            "Processing triggers for libc-bin (2.35-0ubuntu3.4) ...\n",
            "/sbin/ldconfig.real: /usr/local/lib/libtbb.so.12 is not a symbolic link\n",
            "\n",
            "/sbin/ldconfig.real: /usr/local/lib/libtbbmalloc_proxy.so.2 is not a symbolic link\n",
            "\n",
            "/sbin/ldconfig.real: /usr/local/lib/libtbbbind_2_5.so.3 is not a symbolic link\n",
            "\n",
            "/sbin/ldconfig.real: /usr/local/lib/libtbbbind_2_0.so.3 is not a symbolic link\n",
            "\n",
            "/sbin/ldconfig.real: /usr/local/lib/libtbbbind.so.3 is not a symbolic link\n",
            "\n",
            "/sbin/ldconfig.real: /usr/local/lib/libtbbmalloc.so.2 is not a symbolic link\n",
            "\n",
            "Reading package lists... Done\n",
            "Building dependency tree... Done\n",
            "Reading state information... Done\n",
            "The following additional packages will be installed:\n",
            "  python3-pip-whl python3-setuptools-whl\n",
            "The following NEW packages will be installed:\n",
            "  python3-pip-whl python3-setuptools-whl python3.10-venv\n",
            "0 upgraded, 3 newly installed, 0 to remove and 45 not upgraded.\n",
            "Need to get 2,473 kB of archives.\n",
            "After this operation, 2,884 kB of additional disk space will be used.\n",
            "Get:1 http://archive.ubuntu.com/ubuntu jammy-updates/universe amd64 python3-pip-whl all 22.0.2+dfsg-1ubuntu0.4 [1,680 kB]\n",
            "Get:2 http://archive.ubuntu.com/ubuntu jammy-updates/universe amd64 python3-setuptools-whl all 59.6.0-1.2ubuntu0.22.04.1 [788 kB]\n",
            "Get:3 http://archive.ubuntu.com/ubuntu jammy-updates/universe amd64 python3.10-venv amd64 3.10.12-1~22.04.3 [5,716 B]\n",
            "Fetched 2,473 kB in 3s (859 kB/s)\n",
            "debconf: unable to initialize frontend: Dialog\n",
            "debconf: (No usable dialog-like program is installed, so the dialog based frontend cannot be used. at /usr/share/perl5/Debconf/FrontEnd/Dialog.pm line 78, <> line 3.)\n",
            "debconf: falling back to frontend: Readline\n",
            "debconf: unable to initialize frontend: Readline\n",
            "debconf: (This frontend requires a controlling tty.)\n",
            "debconf: falling back to frontend: Teletype\n",
            "dpkg-preconfigure: unable to re-open stdin: \n",
            "Selecting previously unselected package python3-pip-whl.\n",
            "(Reading database ... 122046 files and directories currently installed.)\n",
            "Preparing to unpack .../python3-pip-whl_22.0.2+dfsg-1ubuntu0.4_all.deb ...\n",
            "Unpacking python3-pip-whl (22.0.2+dfsg-1ubuntu0.4) ...\n",
            "Selecting previously unselected package python3-setuptools-whl.\n",
            "Preparing to unpack .../python3-setuptools-whl_59.6.0-1.2ubuntu0.22.04.1_all.deb ...\n",
            "Unpacking python3-setuptools-whl (59.6.0-1.2ubuntu0.22.04.1) ...\n",
            "Selecting previously unselected package python3.10-venv.\n",
            "Preparing to unpack .../python3.10-venv_3.10.12-1~22.04.3_amd64.deb ...\n",
            "Unpacking python3.10-venv (3.10.12-1~22.04.3) ...\n",
            "Setting up python3-setuptools-whl (59.6.0-1.2ubuntu0.22.04.1) ...\n",
            "Setting up python3-pip-whl (22.0.2+dfsg-1ubuntu0.4) ...\n",
            "Setting up python3.10-venv (3.10.12-1~22.04.3) ...\n"
          ]
        }
      ],
      "source": [
        "!sudo apt install cargo\n",
        "!sudo apt install python3.10-venv"
      ]
    },
    {
      "cell_type": "code",
      "execution_count": null,
      "metadata": {
        "colab": {
          "base_uri": "https://localhost:8080/"
        },
        "id": "zfpavjUFIV6v",
        "outputId": "8d0bdc26-a661-4dd8-c826-791b7abbea64"
      },
      "outputs": [
        {
          "output_type": "stream",
          "name": "stdout",
          "text": [
            "/content/libtashkeel\n"
          ]
        }
      ],
      "source": [
        "cd libtashkeel"
      ]
    },
    {
      "cell_type": "code",
      "execution_count": null,
      "metadata": {
        "colab": {
          "base_uri": "https://localhost:8080/"
        },
        "id": "0dC4WZ4sIaeo",
        "outputId": "18c2ed30-7dc8-4125-accd-c08f5cc74e86"
      },
      "outputs": [
        {
          "output_type": "stream",
          "name": "stdout",
          "text": [
            "\u001b[1m\u001b[32m    Updating\u001b[0m crates.io index\n",
            "\u001b[1m\u001b[32m Downloading\u001b[0m crates ...\n",
            "\u001b[1m\u001b[32m  Downloaded\u001b[0m anstyle-parse v0.2.4\n",
            "\u001b[1m\u001b[32m  Downloaded\u001b[0m adler v1.0.2\n",
            "\u001b[1m\u001b[32m  Downloaded\u001b[0m anstyle v1.0.7\n",
            "\u001b[1m\u001b[32m  Downloaded\u001b[0m anstream v0.6.14\n",
            "\u001b[1m\u001b[32m  Downloaded\u001b[0m atty v0.2.14\n",
            "\u001b[1m\u001b[32m  Downloaded\u001b[0m is-terminal v0.4.12\n",
            "\u001b[1m\u001b[32m  Downloaded\u001b[0m errno v0.3.9\n",
            "\u001b[1m\u001b[32m  Downloaded\u001b[0m aho-corasick v1.1.3\n",
            "\u001b[1m\u001b[32m  Downloaded\u001b[0m smallvec v1.13.2\n",
            "\u001b[1m\u001b[32m  Downloaded\u001b[0m typenum v1.17.0\n",
            "\u001b[1m\u001b[32m  Downloaded\u001b[0m unicode-bidi v0.3.15\n",
            "\u001b[1m\u001b[32m  Downloaded\u001b[0m is_terminal_polyfill v1.70.0\n",
            "\u001b[1m\u001b[32m  Downloaded\u001b[0m rawpointer v0.2.1\n",
            "\u001b[1m\u001b[32m  Downloaded\u001b[0m indoc v1.0.9\n",
            "\u001b[1m\u001b[32m  Downloaded\u001b[0m tinyvec_macros v0.1.1\n",
            "\u001b[1m\u001b[32m  Downloaded\u001b[0m pyo3-macros v0.18.3\n",
            "\u001b[1m\u001b[32m  Downloaded\u001b[0m tracing-core v0.1.32\n",
            "\u001b[1m\u001b[32m  Downloaded\u001b[0m cfg-if v1.0.0\n",
            "\u001b[1m\u001b[32m  Downloaded\u001b[0m xattr v1.3.1\n",
            "\u001b[1m\u001b[32m  Downloaded\u001b[0m untrusted v0.9.0\n",
            "\u001b[1m\u001b[32m  Downloaded\u001b[0m bitflags v1.3.2\n",
            "\u001b[1m\u001b[32m  Downloaded\u001b[0m strsim v0.11.1\n",
            "\u001b[1m\u001b[32m  Downloaded\u001b[0m clap_lex v0.7.0\n",
            "\u001b[1m\u001b[32m  Downloaded\u001b[0m crossbeam-deque v0.8.5\n",
            "\u001b[1m\u001b[32m  Downloaded\u001b[0m unindent v0.1.11\n",
            "\u001b[1m\u001b[32m  Downloaded\u001b[0m fastrand v2.1.0\n",
            "\u001b[1m\u001b[32m  Downloaded\u001b[0m utf8parse v0.2.1\n",
            "\u001b[1m\u001b[32m  Downloaded\u001b[0m generic-array v0.14.7\n",
            "\u001b[1m\u001b[32m  Downloaded\u001b[0m filetime v0.2.23\n",
            "\u001b[1m\u001b[32m  Downloaded\u001b[0m thiserror v1.0.61\n",
            "\u001b[1m\u001b[32m  Downloaded\u001b[0m version_check v0.9.4\n",
            "\u001b[1m\u001b[32m  Downloaded\u001b[0m form_urlencoded v1.2.1\n",
            "\u001b[1m\u001b[32m  Downloaded\u001b[0m humantime v2.1.0\n",
            "\u001b[1m\u001b[32m  Downloaded\u001b[0m heck v0.5.0\n",
            "\u001b[1m\u001b[32m  Downloaded\u001b[0m tempfile v3.10.1\n",
            "\u001b[1m\u001b[32m  Downloaded\u001b[0m itoa v1.0.11\n",
            "\u001b[1m\u001b[32m  Downloaded\u001b[0m zeroize v1.7.0\n",
            "\u001b[1m\u001b[32m  Downloaded\u001b[0m lazy_static v1.4.0\n",
            "\u001b[1m\u001b[32m  Downloaded\u001b[0m unicode-ident v1.0.12\n",
            "\u001b[1m\u001b[32m  Downloaded\u001b[0m percent-encoding v2.3.1\n",
            "\u001b[1m\u001b[32m  Downloaded\u001b[0m num-integer v0.1.46\n",
            "\u001b[1m\u001b[32m  Downloaded\u001b[0m tinyvec v1.6.0\n",
            "\u001b[1m\u001b[32m  Downloaded\u001b[0m toml v0.5.11\n",
            "\u001b[1m\u001b[32m  Downloaded\u001b[0m textwrap v0.16.1\n",
            "\u001b[1m\u001b[32m  Downloaded\u001b[0m scopeguard v1.2.0\n",
            "\u001b[1m\u001b[32m  Downloaded\u001b[0m colorchoice v1.0.1\n",
            "\u001b[1m\u001b[32m  Downloaded\u001b[0m tracing v0.1.40\n",
            "\u001b[1m\u001b[32m  Downloaded\u001b[0m memoffset v0.8.0\n",
            "\u001b[1m\u001b[32m  Downloaded\u001b[0m url v2.5.0\n",
            "\u001b[1m\u001b[32m  Downloaded\u001b[0m subtle v2.5.0\n",
            "\u001b[1m\u001b[32m  Downloaded\u001b[0m cpufeatures v0.2.12\n",
            "\u001b[1m\u001b[32m  Downloaded\u001b[0m unicode-segmentation v1.11.0\n",
            "\u001b[1m\u001b[32m  Downloaded\u001b[0m digest v0.10.7\n",
            "\u001b[1m\u001b[32m  Downloaded\u001b[0m bit-set v0.5.3\n",
            "\u001b[1m\u001b[32m  Downloaded\u001b[0m either v1.12.0\n",
            "\u001b[1m\u001b[32m  Downloaded\u001b[0m crc32fast v1.4.2\n",
            "\u001b[1m\u001b[32m  Downloaded\u001b[0m ureq v2.9.7\n",
            "\u001b[1m\u001b[32m  Downloaded\u001b[0m unicode-normalization v0.1.23\n",
            "\u001b[1m\u001b[32m  Downloaded\u001b[0m env_logger v0.10.2\n",
            "\u001b[1m\u001b[32m  Downloaded\u001b[0m getrandom v0.2.15\n",
            "\u001b[1m\u001b[32m  Downloaded\u001b[0m thiserror-impl v1.0.61\n",
            "\u001b[1m\u001b[32m  Downloaded\u001b[0m heck v0.4.1\n",
            "\u001b[1m\u001b[32m  Downloaded\u001b[0m tracing-attributes v0.1.27\n",
            "\u001b[1m\u001b[32m  Downloaded\u001b[0m sha2 v0.10.8\n",
            "\u001b[1m\u001b[32m  Downloaded\u001b[0m os_str_bytes v6.6.1\n",
            "\u001b[1m\u001b[32m  Downloaded\u001b[0m once_cell v1.19.0\n",
            "\u001b[1m\u001b[32m  Downloaded\u001b[0m webpki-roots v0.26.1\n",
            "\u001b[1m\u001b[32m  Downloaded\u001b[0m syn v2.0.66\n",
            "\u001b[1m\u001b[32m  Downloaded\u001b[0m lock_api v0.4.12\n",
            "\u001b[1m\u001b[32m  Downloaded\u001b[0m syn v1.0.109\n",
            "\u001b[1m\u001b[32m  Downloaded\u001b[0m ort-sys v2.0.0-rc.2\n",
            "\u001b[1m\u001b[32m  Downloaded\u001b[0m target-lexicon v0.12.14\n",
            "\u001b[1m\u001b[32m  Downloaded\u001b[0m crypto-common v0.1.6\n",
            "\u001b[1m\u001b[32m  Downloaded\u001b[0m anstyle-query v1.0.3\n",
            "\u001b[1m\u001b[32m  Downloaded\u001b[0m quote v1.0.36\n",
            "\u001b[1m\u001b[32m  Downloaded\u001b[0m pin-project-lite v0.2.14\n",
            "\u001b[1m\u001b[32m  Downloaded\u001b[0m strsim v0.10.0\n",
            "\u001b[1m\u001b[32m  Downloaded\u001b[0m clap_lex v0.2.4\n",
            "\u001b[1m\u001b[32m  Downloaded\u001b[0m num-complex v0.4.6\n",
            "\u001b[1m\u001b[32m  Downloaded\u001b[0m rustls-pki-types v1.7.0\n",
            "\u001b[1m\u001b[32m  Downloaded\u001b[0m spin v0.9.8\n",
            "\u001b[1m\u001b[32m  Downloaded\u001b[0m clap v4.5.4\n",
            "\u001b[1m\u001b[32m  Downloaded\u001b[0m crossbeam-epoch v0.9.18\n",
            "\u001b[1m\u001b[32m  Downloaded\u001b[0m half v2.4.1\n",
            "\u001b[1m\u001b[32m  Downloaded\u001b[0m clap_derive v4.5.4\n",
            "\u001b[1m\u001b[32m  Downloaded\u001b[0m indexmap v1.9.3\n",
            "\u001b[1m\u001b[32m  Downloaded\u001b[0m bitflags v2.5.0\n",
            "\u001b[1m\u001b[32m  Downloaded\u001b[0m bit-vec v0.6.3\n",
            "\u001b[1m\u001b[32m  Downloaded\u001b[0m parking_lot_core v0.9.10\n",
            "\u001b[1m\u001b[32m  Downloaded\u001b[0m termcolor v1.4.1\n",
            "\u001b[1m\u001b[32m  Downloaded\u001b[0m log v0.4.21\n",
            "\u001b[1m\u001b[32m  Downloaded\u001b[0m pyo3-macros-backend v0.18.3\n",
            "\u001b[1m\u001b[32m  Downloaded\u001b[0m ryu v1.0.18\n",
            "\u001b[1m\u001b[32m  Downloaded\u001b[0m parking_lot v0.12.3\n",
            "\u001b[1m\u001b[32m  Downloaded\u001b[0m block-buffer v0.10.4\n",
            "\u001b[1m\u001b[32m  Downloaded\u001b[0m autocfg v1.3.0\n",
            "\u001b[1m\u001b[32m  Downloaded\u001b[0m pyo3-ffi v0.18.3\n",
            "\u001b[1m\u001b[32m  Downloaded\u001b[0m miniz_oxide v0.7.3\n",
            "\u001b[1m\u001b[32m  Downloaded\u001b[0m tar v0.4.40\n",
            "\u001b[1m\u001b[32m  Downloaded\u001b[0m anyhow v1.0.86\n",
            "\u001b[1m\u001b[32m  Downloaded\u001b[0m crossbeam-utils v0.8.20\n",
            "\u001b[1m\u001b[32m  Downloaded\u001b[0m proc-macro2 v1.0.83\n",
            "\u001b[1m\u001b[32m  Downloaded\u001b[0m rayon-core v1.12.1\n",
            "\u001b[1m\u001b[32m  Downloaded\u001b[0m serde_derive v1.0.202\n",
            "\u001b[1m\u001b[32m  Downloaded\u001b[0m num-traits v0.2.19\n",
            "\u001b[1m\u001b[32m  Downloaded\u001b[0m matrixmultiply v0.3.8\n",
            "\u001b[1m\u001b[32m  Downloaded\u001b[0m base64 v0.22.1\n",
            "\u001b[1m\u001b[32m  Downloaded\u001b[0m fancy-regex v0.11.0\n",
            "\u001b[1m\u001b[32m  Downloaded\u001b[0m cc v1.0.98\n",
            "\u001b[1m\u001b[32m  Downloaded\u001b[0m flate2 v1.0.30\n",
            "\u001b[1m\u001b[32m  Downloaded\u001b[0m serde v1.0.202\n",
            "\u001b[1m\u001b[32m  Downloaded\u001b[0m memchr v2.7.2\n",
            "\u001b[1m\u001b[32m  Downloaded\u001b[0m hashbrown v0.12.3\n",
            "\u001b[1m\u001b[32m  Downloaded\u001b[0m clap_builder v4.5.2\n",
            "\u001b[1m\u001b[32m  Downloaded\u001b[0m serde_json v1.0.117\n",
            "\u001b[1m\u001b[32m  Downloaded\u001b[0m rayon v1.10.0\n",
            "\u001b[1m\u001b[32m  Downloaded\u001b[0m cbindgen v0.26.0\n",
            "\u001b[1m\u001b[32m  Downloaded\u001b[0m rustls-webpki v0.102.4\n",
            "\u001b[1m\u001b[32m  Downloaded\u001b[0m clap v3.2.25\n",
            "\u001b[1m\u001b[32m  Downloaded\u001b[0m idna v0.5.0\n",
            "\u001b[1m\u001b[32m  Downloaded\u001b[0m regex v1.10.4\n",
            "\u001b[1m\u001b[32m  Downloaded\u001b[0m ndarray v0.15.6\n",
            "\u001b[1m\u001b[32m  Downloaded\u001b[0m rustls v0.22.4\n",
            "\u001b[1m\u001b[32m  Downloaded\u001b[0m rustix v0.38.34\n",
            "\u001b[1m\u001b[32m  Downloaded\u001b[0m regex-syntax v0.8.3\n",
            "\u001b[1m\u001b[32m  Downloaded\u001b[0m pyo3 v0.18.3\n",
            "\u001b[1m\u001b[32m  Downloaded\u001b[0m regex-automata v0.4.6\n",
            "\u001b[1m\u001b[32m  Downloaded\u001b[0m libc v0.2.155\n",
            "\u001b[1m\u001b[32m  Downloaded\u001b[0m linux-raw-sys v0.4.14\n",
            "\u001b[1m\u001b[32m  Downloaded\u001b[0m ring v0.17.8\n",
            "\u001b[1m\u001b[32m  Downloaded\u001b[0m pyo3-build-config v0.18.3\n",
            "\u001b[1m\u001b[32m  Downloaded\u001b[0m ffi-support v0.4.4\n",
            "\u001b[1m\u001b[32m  Downloaded\u001b[0m ort v2.0.0-rc.2\n",
            "\u001b[1m\u001b[32m  Downloaded\u001b[0m libtqsm v0.6.1\n",
            "\u001b[1m\u001b[32m   Compiling\u001b[0m libc v0.2.155\n",
            "\u001b[1m\u001b[32m   Compiling\u001b[0m proc-macro2 v1.0.83\n",
            "\u001b[1m\u001b[32m   Compiling\u001b[0m autocfg v1.3.0\n",
            "\u001b[1m\u001b[32m   Compiling\u001b[0m unicode-ident v1.0.12\n",
            "\u001b[1m\u001b[32m   Compiling\u001b[0m cfg-if v1.0.0\n",
            "\u001b[1m\u001b[32m   Compiling\u001b[0m quote v1.0.36\n",
            "\u001b[1m\u001b[32m   Compiling\u001b[0m syn v2.0.66\n",
            "\u001b[1m\u001b[32m   Compiling\u001b[0m rustix v0.38.34\n",
            "\u001b[1m\u001b[32m   Compiling\u001b[0m once_cell v1.19.0\n",
            "\u001b[1m\u001b[32m   Compiling\u001b[0m linux-raw-sys v0.4.14\n",
            "\u001b[1m\u001b[32m   Compiling\u001b[0m cc v1.0.98\n",
            "\u001b[1m\u001b[32m   Compiling\u001b[0m version_check v0.9.4\n",
            "\u001b[1m\u001b[32m   Compiling\u001b[0m serde v1.0.202\n",
            "\u001b[1m\u001b[32m   Compiling\u001b[0m typenum v1.17.0\n",
            "\u001b[1m\u001b[32m   Compiling\u001b[0m bitflags v2.5.0\n",
            "\u001b[1m\u001b[32m   Compiling\u001b[0m generic-array v0.14.7\n",
            "\u001b[1m\u001b[32m   Compiling\u001b[0m ring v0.17.8\n",
            "\u001b[1m\u001b[32m   Compiling\u001b[0m serde_derive v1.0.202\n",
            "\u001b[1m\u001b[32m   Compiling\u001b[0m tinyvec_macros v0.1.1\n",
            "\u001b[1m\u001b[32m   Compiling\u001b[0m log v0.4.21\n",
            "\u001b[1m\u001b[32m   Compiling\u001b[0m tinyvec v1.6.0\n",
            "\u001b[1m\u001b[32m   Compiling\u001b[0m getrandom v0.2.15\n",
            "\u001b[1m\u001b[32m   Compiling\u001b[0m untrusted v0.9.0\n",
            "\u001b[1m\u001b[32m   Compiling\u001b[0m rustls-pki-types v1.7.0\n",
            "\u001b[1m\u001b[32m   Compiling\u001b[0m target-lexicon v0.12.14\n",
            "\u001b[1m\u001b[32m   Compiling\u001b[0m spin v0.9.8\n",
            "\u001b[1m\u001b[32m   Compiling\u001b[0m serde_json v1.0.117\n",
            "\u001b[1m\u001b[32m   Compiling\u001b[0m unicode-normalization v0.1.23\n",
            "\u001b[1m\u001b[32m   Compiling\u001b[0m rustls v0.22.4\n",
            "\u001b[1m\u001b[32m   Compiling\u001b[0m percent-encoding v2.3.1\n",
            "\u001b[1m\u001b[32m   Compiling\u001b[0m unicode-bidi v0.3.15\n",
            "\u001b[1m\u001b[32m   Compiling\u001b[0m idna v0.5.0\n",
            "\u001b[1m\u001b[32m   Compiling\u001b[0m rustls-webpki v0.102.4\n",
            "\u001b[1m\u001b[32m   Compiling\u001b[0m form_urlencoded v1.2.1\n",
            "\u001b[1m\u001b[32m   Compiling\u001b[0m block-buffer v0.10.4\n",
            "\u001b[1m\u001b[32m   Compiling\u001b[0m crypto-common v0.1.6\n",
            "\u001b[1m\u001b[32m   Compiling\u001b[0m num-traits v0.2.19\n",
            "\u001b[1m\u001b[32m   Compiling\u001b[0m memchr v2.7.2\n",
            "\u001b[1m\u001b[32m   Compiling\u001b[0m zeroize v1.7.0\n",
            "\u001b[1m\u001b[32m   Compiling\u001b[0m adler v1.0.2\n",
            "\u001b[1m\u001b[32m   Compiling\u001b[0m syn v1.0.109\n",
            "\u001b[1m\u001b[32m   Compiling\u001b[0m crossbeam-utils v0.8.20\n",
            "\u001b[1m\u001b[32m   Compiling\u001b[0m subtle v2.5.0\n",
            "\u001b[1m\u001b[32m   Compiling\u001b[0m aho-corasick v1.1.3\n",
            "\u001b[1m\u001b[32m   Compiling\u001b[0m miniz_oxide v0.7.3\n",
            "\u001b[1m\u001b[32m   Compiling\u001b[0m digest v0.10.7\n",
            "\u001b[1m\u001b[32m   Compiling\u001b[0m pyo3-build-config v0.18.3\n",
            "\u001b[1m\u001b[32m   Compiling\u001b[0m url v2.5.0\n",
            "\u001b[1m\u001b[32m   Compiling\u001b[0m webpki-roots v0.26.1\n",
            "\u001b[1m\u001b[32m   Compiling\u001b[0m xattr v1.3.1\n",
            "\u001b[1m\u001b[32m   Compiling\u001b[0m filetime v0.2.23\n",
            "\u001b[1m\u001b[32m   Compiling\u001b[0m crc32fast v1.4.2\n",
            "\u001b[1m\u001b[32m   Compiling\u001b[0m cpufeatures v0.2.12\n",
            "\u001b[1m\u001b[32m   Compiling\u001b[0m regex-syntax v0.8.3\n",
            "\u001b[1m\u001b[32m   Compiling\u001b[0m base64 v0.22.1\n",
            "\u001b[1m\u001b[32m   Compiling\u001b[0m ureq v2.9.7\n",
            "\u001b[1m\u001b[32m   Compiling\u001b[0m sha2 v0.10.8\n",
            "\u001b[1m\u001b[32m   Compiling\u001b[0m regex-automata v0.4.6\n",
            "\u001b[1m\u001b[32m   Compiling\u001b[0m flate2 v1.0.30\n",
            "\u001b[1m\u001b[32m   Compiling\u001b[0m tar v0.4.40\n",
            "\u001b[1m\u001b[32m   Compiling\u001b[0m matrixmultiply v0.3.8\n",
            "\u001b[1m\u001b[32m   Compiling\u001b[0m crossbeam-epoch v0.9.18\n",
            "\u001b[1m\u001b[32m   Compiling\u001b[0m ort-sys v2.0.0-rc.2\n",
            "\u001b[1m\u001b[32m   Compiling\u001b[0m regex v1.10.4\n",
            "\u001b[1m\u001b[32m   Compiling\u001b[0m indexmap v1.9.3\n",
            "\u001b[1m\u001b[32m   Compiling\u001b[0m rayon-core v1.12.1\n",
            "\u001b[1m\u001b[32m   Compiling\u001b[0m rawpointer v0.2.1\n",
            "\u001b[1m\u001b[32m   Compiling\u001b[0m anyhow v1.0.86\n",
            "\u001b[1m\u001b[32m   Compiling\u001b[0m bit-vec v0.6.3\n",
            "\u001b[1m\u001b[32m   Compiling\u001b[0m thiserror v1.0.61\n",
            "\u001b[1m\u001b[32m   Compiling\u001b[0m bit-set v0.5.3\n",
            "\u001b[1m\u001b[32m   Compiling\u001b[0m crossbeam-deque v0.8.5\n",
            "\u001b[1m\u001b[32m   Compiling\u001b[0m tracing-core v0.1.32\n",
            "\u001b[1m\u001b[32m   Compiling\u001b[0m num-integer v0.1.46\n",
            "\u001b[1m\u001b[32m   Compiling\u001b[0m num-complex v0.4.6\n",
            "\u001b[1m\u001b[32m   Compiling\u001b[0m tracing-attributes v0.1.27\n",
            "\u001b[1m\u001b[32m   Compiling\u001b[0m thiserror-impl v1.0.61\n",
            "\u001b[1m\u001b[32m   Compiling\u001b[0m hashbrown v0.12.3\n",
            "\u001b[1m\u001b[32m   Compiling\u001b[0m ryu v1.0.18\n",
            "\u001b[1m\u001b[32m   Compiling\u001b[0m itoa v1.0.11\n",
            "\u001b[1m\u001b[32m   Compiling\u001b[0m os_str_bytes v6.6.1\n",
            "\u001b[1m\u001b[32m   Compiling\u001b[0m pin-project-lite v0.2.14\n",
            "\u001b[1m\u001b[32m   Compiling\u001b[0m tracing v0.1.40\n",
            "\u001b[1m\u001b[32m   Compiling\u001b[0m clap_lex v0.2.4\n",
            "\u001b[1m\u001b[32m   Compiling\u001b[0m ndarray v0.15.6\n",
            "\u001b[1m\u001b[32m   Compiling\u001b[0m fancy-regex v0.11.0\n",
            "\u001b[1m\u001b[32m   Compiling\u001b[0m pyo3-ffi v0.18.3\n",
            "\u001b[1m\u001b[32m   Compiling\u001b[0m half v2.4.1\n",
            "\u001b[1m\u001b[32m   Compiling\u001b[0m atty v0.2.14\n",
            "\u001b[1m\u001b[32m   Compiling\u001b[0m lock_api v0.4.12\n",
            "\u001b[1m\u001b[32m   Compiling\u001b[0m fastrand v2.1.0\n",
            "\u001b[1m\u001b[32m   Compiling\u001b[0m utf8parse v0.2.1\n",
            "\u001b[1m\u001b[32m   Compiling\u001b[0m bitflags v1.3.2\n",
            "\u001b[1m\u001b[32m   Compiling\u001b[0m strsim v0.10.0\n",
            "\u001b[1m\u001b[32m   Compiling\u001b[0m unicode-segmentation v1.11.0\n",
            "\u001b[1m\u001b[32m   Compiling\u001b[0m textwrap v0.16.1\n",
            "\u001b[1m\u001b[32m   Compiling\u001b[0m termcolor v1.4.1\n",
            "\u001b[1m\u001b[32m   Compiling\u001b[0m parking_lot_core v0.9.10\n",
            "\u001b[1m\u001b[32m   Compiling\u001b[0m cbindgen v0.26.0\n",
            "\u001b[1m\u001b[32m   Compiling\u001b[0m either v1.12.0\n",
            "\u001b[1m\u001b[32m   Compiling\u001b[0m clap v3.2.25\n",
            "\u001b[1m\u001b[32m   Compiling\u001b[0m rayon v1.10.0\n",
            "\u001b[1m\u001b[32m   Compiling\u001b[0m libtqsm v0.6.1\n",
            "\u001b[1m\u001b[32m   Compiling\u001b[0m anstyle-parse v0.2.4\n",
            "\u001b[1m\u001b[32m   Compiling\u001b[0m tempfile v3.10.1\n",
            "\u001b[1m\u001b[32m   Compiling\u001b[0m ort v2.0.0-rc.2\n",
            "\u001b[1m\u001b[32m   Compiling\u001b[0m toml v0.5.11\n",
            "\u001b[1m\u001b[32m   Compiling\u001b[0m memoffset v0.8.0\n",
            "\u001b[1m\u001b[32m   Compiling\u001b[0m scopeguard v1.2.0\n",
            "\u001b[1m\u001b[32m   Compiling\u001b[0m is_terminal_polyfill v1.70.0\n",
            "\u001b[1m\u001b[32m   Compiling\u001b[0m anstyle v1.0.7\n",
            "\u001b[1m\u001b[32m   Compiling\u001b[0m heck v0.4.1\n",
            "\u001b[1m\u001b[32m   Compiling\u001b[0m smallvec v1.13.2\n",
            "\u001b[1m\u001b[32m   Compiling\u001b[0m colorchoice v1.0.1\n",
            "\u001b[1m\u001b[32m   Compiling\u001b[0m anstyle-query v1.0.3\n",
            "\u001b[1m\u001b[32m   Compiling\u001b[0m anstream v0.6.14\n",
            "\u001b[1m\u001b[32m   Compiling\u001b[0m libtashkeel_base v1.5.0 (/content/libtashkeel/libtashkeel_base)\n",
            "\u001b[1m\u001b[32m   Compiling\u001b[0m pyo3 v0.18.3\n",
            "\u001b[1m\u001b[32m   Compiling\u001b[0m pyo3-macros-backend v0.18.3\n",
            "\u001b[1m\u001b[32m   Compiling\u001b[0m heck v0.5.0\n",
            "\u001b[1m\u001b[32m   Compiling\u001b[0m strsim v0.11.1\n",
            "\u001b[1m\u001b[32m   Compiling\u001b[0m clap_lex v0.7.0\n",
            "\u001b[1m\u001b[32m   Compiling\u001b[0m clap_builder v4.5.2\n",
            "\u001b[1m\u001b[32m   Compiling\u001b[0m pyo3-macros v0.18.3\n",
            "\u001b[1m\u001b[32m   Compiling\u001b[0m clap_derive v4.5.4\n",
            "\u001b[1m\u001b[32m   Compiling\u001b[0m libtashkeel v1.5.0 (/content/libtashkeel/libtashkeel)\n",
            "\u001b[1m\u001b[32m   Compiling\u001b[0m parking_lot v0.12.3\n",
            "\u001b[1m\u001b[32m   Compiling\u001b[0m is-terminal v0.4.12\n",
            "\u001b[1m\u001b[32m   Compiling\u001b[0m unindent v0.1.11\n",
            "\u001b[1m\u001b[32m   Compiling\u001b[0m lazy_static v1.4.0\n",
            "\u001b[1m\u001b[32m   Compiling\u001b[0m humantime v2.1.0\n",
            "\u001b[1m\u001b[32m   Compiling\u001b[0m indoc v1.0.9\n",
            "\u001b[1m\u001b[32m   Compiling\u001b[0m env_logger v0.10.2\n",
            "\u001b[1m\u001b[32m   Compiling\u001b[0m ffi-support v0.4.4\n",
            "\u001b[1m\u001b[32m   Compiling\u001b[0m clap v4.5.4\n",
            "\u001b[1m\u001b[32m   Compiling\u001b[0m tashkeel v1.5.0 (/content/libtashkeel/tashkeel)\n",
            "\u001b[1m\u001b[32m   Compiling\u001b[0m pylibtashkeel v1.5.0 (/content/libtashkeel/pylibtashkeel)\n",
            "\u001b[1m\u001b[32m    Finished\u001b[0m release [optimized] target(s) in 6m 59s\n"
          ]
        }
      ],
      "source": [
        "!cargo build --release"
      ]
    },
    {
      "cell_type": "code",
      "execution_count": null,
      "metadata": {
        "colab": {
          "base_uri": "https://localhost:8080/"
        },
        "id": "RiDjMOCmIebh",
        "outputId": "de12fa7c-4c41-4b8b-d97d-dc3078088f8e"
      },
      "outputs": [
        {
          "output_type": "stream",
          "name": "stdout",
          "text": [
            "/content/libtashkeel/pylibtashkeel\n"
          ]
        }
      ],
      "source": [
        "cd pylibtashkeel"
      ]
    },
    {
      "cell_type": "code",
      "execution_count": null,
      "metadata": {
        "colab": {
          "base_uri": "https://localhost:8080/"
        },
        "id": "lI0SbI3mIl1A",
        "outputId": "0b2288b9-0d9f-4c17-9ec2-0a8f82d65fda"
      },
      "outputs": [
        {
          "output_type": "stream",
          "name": "stdout",
          "text": [
            "Collecting maturin\n",
            "  Downloading maturin-1.5.1-py3-none-manylinux_2_12_x86_64.manylinux2010_x86_64.musllinux_1_1_x86_64.whl (10.3 MB)\n",
            "\u001b[2K     \u001b[90m━━━━━━━━━━━━━━━━━━━━━━━━━━━━━━━━━━━━━━━━\u001b[0m \u001b[32m10.3/10.3 MB\u001b[0m \u001b[31m4.1 MB/s\u001b[0m eta \u001b[36m0:00:00\u001b[0m\n",
            "\u001b[?25hRequirement already satisfied: tomli>=1.1.0 in /usr/local/lib/python3.10/dist-packages (from maturin) (2.0.1)\n",
            "Installing collected packages: maturin\n",
            "Successfully installed maturin-1.5.1\n",
            "🔗 Found pyo3 bindings with abi3 support for Python ≥ 3.7\n",
            "🐍 Not using a specific python interpreter\n",
            "\u001b[1m\u001b[32m   Compiling\u001b[0m rustix v0.38.34\n",
            "\u001b[1m\u001b[32m   Compiling\u001b[0m pyo3-build-config v0.18.3\n",
            "\u001b[1m\u001b[32m   Compiling\u001b[0m syn v1.0.109\n",
            "\u001b[1m\u001b[32m   Compiling\u001b[0m pyo3-ffi v0.18.3\n",
            "\u001b[1m\u001b[32m   Compiling\u001b[0m xattr v1.3.1\n",
            "\u001b[1m\u001b[32m   Compiling\u001b[0m tar v0.4.40\n",
            "\u001b[1m\u001b[32m   Compiling\u001b[0m ort-sys v2.0.0-rc.2\n",
            "\u001b[1m\u001b[32m   Compiling\u001b[0m pyo3-macros-backend v0.18.3\n",
            "\u001b[1m\u001b[32m   Compiling\u001b[0m pyo3 v0.18.3\n",
            "\u001b[1m\u001b[32m   Compiling\u001b[0m ort v2.0.0-rc.2\n",
            "\u001b[1m\u001b[32m   Compiling\u001b[0m pyo3-macros v0.18.3\n",
            "\u001b[1m\u001b[32m   Compiling\u001b[0m log v0.4.21\n",
            "\u001b[1m\u001b[32m   Compiling\u001b[0m libtashkeel_base v1.5.0 (/content/libtashkeel/libtashkeel_base)\n",
            "\u001b[1m\u001b[32m   Compiling\u001b[0m pylibtashkeel v1.5.0 (/content/libtashkeel/pylibtashkeel)\n",
            "\u001b[1m\u001b[32m    Finished\u001b[0m release [optimized] target(s) in 1m 45s\n",
            "📦 Built wheel for abi3 Python ≥ 3.7 to /content/libtashkeel/target/wheels/pylibtashkeel-1.5.0-cp37-abi3-manylinux_2_34_x86_64.whl\n"
          ]
        }
      ],
      "source": [
        "!python3 -m venv .venv\n",
        "!source .venv/bin/activate\n",
        "!pip install maturin\n",
        "!maturin build --release --strip -i .venv/bin/python"
      ]
    },
    {
      "cell_type": "code",
      "execution_count": null,
      "metadata": {
        "colab": {
          "base_uri": "https://localhost:8080/"
        },
        "id": "u4UBkGy9KPtZ",
        "outputId": "29024ca0-6ccc-4c8b-fec8-28240c7e01e9"
      },
      "outputs": [
        {
          "output_type": "stream",
          "name": "stdout",
          "text": [
            "/content/libtashkeel\n"
          ]
        }
      ],
      "source": [
        "cd .."
      ]
    },
    {
      "cell_type": "code",
      "execution_count": null,
      "metadata": {
        "colab": {
          "base_uri": "https://localhost:8080/"
        },
        "id": "cBf0r3iVKQYm",
        "outputId": "8c7a6a98-995c-48f3-e693-7434fb78fdaf"
      },
      "outputs": [
        {
          "output_type": "stream",
          "name": "stdout",
          "text": [
            "Processing ./target/wheels/pylibtashkeel-1.5.0-cp37-abi3-manylinux_2_34_x86_64.whl\n",
            "Installing collected packages: pylibtashkeel\n",
            "Successfully installed pylibtashkeel-1.5.0\n"
          ]
        }
      ],
      "source": [
        "!pip install ./target/wheels/pylibtashkeel*.whl"
      ]
    },
    {
      "cell_type": "code",
      "execution_count": null,
      "metadata": {
        "colab": {
          "base_uri": "https://localhost:8080/"
        },
        "id": "aLmhasdlKn6x",
        "outputId": "58047c74-a4ca-4b75-e55f-cc4f755d144f"
      },
      "outputs": [
        {
          "output_type": "stream",
          "name": "stdout",
          "text": [
            "/content\n"
          ]
        }
      ],
      "source": [
        "cd .."
      ]
    },
    {
      "cell_type": "markdown",
      "source": [
        "## Find the best model"
      ],
      "metadata": {
        "id": "8ffJ4ETEqfYx"
      }
    },
    {
      "cell_type": "markdown",
      "source": [
        "### Install pyaraby"
      ],
      "metadata": {
        "id": "--Yhg11-skn_"
      }
    },
    {
      "cell_type": "code",
      "source": [
        "!pip3 install pyarabic"
      ],
      "metadata": {
        "colab": {
          "base_uri": "https://localhost:8080/"
        },
        "id": "jXG6Jqs7sjoX",
        "outputId": "472fd1e1-caee-4680-a44c-6f2d8d4f53e6"
      },
      "execution_count": null,
      "outputs": [
        {
          "output_type": "stream",
          "name": "stdout",
          "text": [
            "Collecting pyarabic\n",
            "  Downloading PyArabic-0.6.15-py3-none-any.whl (126 kB)\n",
            "\u001b[2K     \u001b[90m━━━━━━━━━━━━━━━━━━━━━━━━━━━━━━━━━━━━━━━━\u001b[0m \u001b[32m126.4/126.4 kB\u001b[0m \u001b[31m2.2 MB/s\u001b[0m eta \u001b[36m0:00:00\u001b[0m\n",
            "\u001b[?25hRequirement already satisfied: six>=1.14.0 in /usr/local/lib/python3.10/dist-packages (from pyarabic) (1.16.0)\n",
            "Installing collected packages: pyarabic\n",
            "Successfully installed pyarabic-0.6.15\n"
          ]
        }
      ]
    },
    {
      "cell_type": "markdown",
      "source": [
        "## Test models"
      ],
      "metadata": {
        "id": "6Odqqmo5s4sr"
      }
    },
    {
      "cell_type": "code",
      "source": [
        "from shakkala import Shakkala\n",
        "from pylibtashkeel import tashkeel\n",
        "from pyarabic.araby import strip_tashkeel"
      ],
      "metadata": {
        "id": "sJuc3Ozoq7mK"
      },
      "execution_count": null,
      "outputs": []
    },
    {
      "cell_type": "code",
      "source": [
        "text_test1 = 'قُلْ يَا أَيُّهَا الْكَافِرُونَ'\n",
        "text_test2 = 'ثُمَّ لَتَرَوُنَّهَا عَيْنَ الْيَقِينِ'\n",
        "\n",
        "libtashkeel_model_output = tashkeel(strip_tashkeel(text_test1))"
      ],
      "metadata": {
        "id": "8H8jOSySqhZb"
      },
      "execution_count": null,
      "outputs": []
    },
    {
      "cell_type": "code",
      "source": [
        "sh = Shakkala()\n",
        "input_int = sh.prepare_input(strip_tashkeel(text_test1))\n",
        "model, graph = sh.get_model()\n",
        "logits = model.predict(input_int)[0]\n",
        "predicted_harakat = sh.logits_to_text(logits)\n",
        "shakkala_output = sh.get_final_text(strip_tashkeel(text_test1), predicted_harakat)"
      ],
      "metadata": {
        "colab": {
          "base_uri": "https://localhost:8080/"
        },
        "id": "JF_Ty7vK0WPn",
        "outputId": "3856253f-7953-4303-f487-7e6778a6130e"
      },
      "execution_count": null,
      "outputs": [
        {
          "output_type": "stream",
          "name": "stdout",
          "text": [
            "start load model\n",
            "end load model\n"
          ]
        },
        {
          "output_type": "stream",
          "name": "stderr",
          "text": [
            "WARNING:tensorflow:5 out of the last 5 calls to <function Model.make_predict_function.<locals>.predict_function at 0x7802ecf0cc10> triggered tf.function retracing. Tracing is expensive and the excessive number of tracings could be due to (1) creating @tf.function repeatedly in a loop, (2) passing tensors with different shapes, (3) passing Python objects instead of tensors. For (1), please define your @tf.function outside of the loop. For (2), @tf.function has reduce_retracing=True option that can avoid unnecessary retracing. For (3), please refer to https://www.tensorflow.org/guide/function#controlling_retracing and https://www.tensorflow.org/api_docs/python/tf/function for  more details.\n"
          ]
        },
        {
          "output_type": "stream",
          "name": "stdout",
          "text": [
            "1/1 [==============================] - 3s 3s/step\n"
          ]
        }
      ]
    },
    {
      "cell_type": "code",
      "source": [
        "print(f\"libtashkeel output: {libtashkeel_model_output}\")\n",
        "print(f\"Shakkala output: {shakkala_output}\")\n",
        "print(f'The ground truth: {text_test1}')"
      ],
      "metadata": {
        "colab": {
          "base_uri": "https://localhost:8080/"
        },
        "id": "6qGasUFA0lpO",
        "outputId": "d266e3b6-f359-4dcf-e375-8c348cef0e76"
      },
      "execution_count": null,
      "outputs": [
        {
          "output_type": "stream",
          "name": "stdout",
          "text": [
            "libtashkeel output: قَلْ يَا أَيُّهَا الْكَافِرُون\n",
            "Shakkala output: قُلْ يَا أَيُّهَا الْكَافِرُونَ\n",
            "The ground truth: قُلْ يَا أَيُّهَا الْكَافِرُونَ\n"
          ]
        }
      ]
    },
    {
      "cell_type": "code",
      "source": [
        "libtashkeel_model_output = tashkeel(strip_tashkeel(text_test2))\n",
        "\n",
        "sh = Shakkala()\n",
        "input_int = sh.prepare_input(strip_tashkeel(text_test2))\n",
        "model, graph = sh.get_model()\n",
        "logits = model.predict(input_int)[0]\n",
        "predicted_harakat = sh.logits_to_text(logits)\n",
        "shakkala_output = sh.get_final_text(strip_tashkeel(text_test2), predicted_harakat)"
      ],
      "metadata": {
        "colab": {
          "base_uri": "https://localhost:8080/"
        },
        "id": "dHNIZsYL9L3t",
        "outputId": "718958f4-cf9a-4883-fa56-92b1ed4586c7"
      },
      "execution_count": null,
      "outputs": [
        {
          "output_type": "stream",
          "name": "stdout",
          "text": [
            "start load model\n",
            "end load model\n"
          ]
        },
        {
          "output_type": "stream",
          "name": "stderr",
          "text": [
            "WARNING:tensorflow:6 out of the last 6 calls to <function Model.make_predict_function.<locals>.predict_function at 0x7802e5d04160> triggered tf.function retracing. Tracing is expensive and the excessive number of tracings could be due to (1) creating @tf.function repeatedly in a loop, (2) passing tensors with different shapes, (3) passing Python objects instead of tensors. For (1), please define your @tf.function outside of the loop. For (2), @tf.function has reduce_retracing=True option that can avoid unnecessary retracing. For (3), please refer to https://www.tensorflow.org/guide/function#controlling_retracing and https://www.tensorflow.org/api_docs/python/tf/function for  more details.\n"
          ]
        },
        {
          "output_type": "stream",
          "name": "stdout",
          "text": [
            "1/1 [==============================] - 2s 2s/step\n"
          ]
        }
      ]
    },
    {
      "cell_type": "code",
      "source": [
        "print(f\"libtashkeel output: {libtashkeel_model_output}\")\n",
        "print(f\"Shakkala output: {shakkala_output}\")\n",
        "print(f'The ground truth: {text_test2}')"
      ],
      "metadata": {
        "colab": {
          "base_uri": "https://localhost:8080/"
        },
        "id": "HVbXrLTB9VTk",
        "outputId": "a799c5a0-68fd-4ee0-d26b-a6233d40e0c0"
      },
      "execution_count": null,
      "outputs": [
        {
          "output_type": "stream",
          "name": "stdout",
          "text": [
            "libtashkeel output: ثُمَّ لِتَرُونَهَا عَيْنُ الْيَقِين\n",
            "Shakkala output: ثُمَّ لِتَرَوْنِهَا عَيْنَ الْيَقِينِ\n",
            "The ground truth: ثُمَّ لَتَرَوُنَّهَا عَيْنَ الْيَقِينِ\n"
          ]
        }
      ]
    },
    {
      "cell_type": "markdown",
      "source": [
        "# Results:\n",
        "## We had found that libtashkeel and Shakkala have the same results\n",
        "## but libtashkeel was faster than Shakkla\n",
        "## So we had chosen libtashkeel to add tashkeel to our dataset"
      ],
      "metadata": {
        "id": "NqVkAxAH9xUe"
      }
    }
  ]
}